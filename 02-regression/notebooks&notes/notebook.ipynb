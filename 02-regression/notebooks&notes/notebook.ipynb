{
 "cells": [
  {
   "cell_type": "markdown",
   "metadata": {},
   "source": [
    "## 2. Machine Learning for Regression\n"
   ]
  },
  {
   "cell_type": "code",
   "execution_count": 61,
   "metadata": {
    "scrolled": true
   },
   "outputs": [],
   "source": [
    "import pandas as pd\n",
    "import numpy as np"
   ]
  },
  {
   "cell_type": "markdown",
   "metadata": {},
   "source": [
    "## 2.2 Data preparation"
   ]
  },
  {
   "cell_type": "code",
   "execution_count": 62,
   "metadata": {},
   "outputs": [],
   "source": [
    "data = 'https://raw.githubusercontent.com/alexeygrigorev/mlbookcamp-code/master/chapter-02-car-price/data.csv'"
   ]
  },
  {
   "cell_type": "code",
   "execution_count": 63,
   "metadata": {},
   "outputs": [
    {
     "name": "stderr",
     "output_type": "stream",
     "text": [
      "  % Total    % Received % Xferd  Average Speed   Time    Time     Time  Current\n",
      "                                 Dload  Upload   Total   Spent    Left  Speed\n",
      "\n",
      "  0     0    0     0    0     0      0      0 --:--:-- --:--:-- --:--:--     0\n",
      "  0 1440k    0  6855    0     0  13031      0  0:01:53 --:--:--  0:01:53 13082\n",
      "100 1440k  100 1440k    0     0  1469k      0 --:--:-- --:--:-- --:--:-- 1471k\n"
     ]
    }
   ],
   "source": [
    "!curl -o data.csv $data"
   ]
  },
  {
   "cell_type": "code",
   "execution_count": 64,
   "metadata": {},
   "outputs": [],
   "source": [
    "df = pd.read_csv('data.csv')"
   ]
  },
  {
   "cell_type": "code",
   "execution_count": 65,
   "id": "a38517f3",
   "metadata": {},
   "outputs": [
    {
     "data": {
      "text/html": [
       "<div>\n",
       "<style scoped>\n",
       "    .dataframe tbody tr th:only-of-type {\n",
       "        vertical-align: middle;\n",
       "    }\n",
       "\n",
       "    .dataframe tbody tr th {\n",
       "        vertical-align: top;\n",
       "    }\n",
       "\n",
       "    .dataframe thead th {\n",
       "        text-align: right;\n",
       "    }\n",
       "</style>\n",
       "<table border=\"1\" class=\"dataframe\">\n",
       "  <thead>\n",
       "    <tr style=\"text-align: right;\">\n",
       "      <th></th>\n",
       "      <th>Make</th>\n",
       "      <th>Model</th>\n",
       "      <th>Year</th>\n",
       "      <th>Engine Fuel Type</th>\n",
       "      <th>Engine HP</th>\n",
       "      <th>Engine Cylinders</th>\n",
       "      <th>Transmission Type</th>\n",
       "      <th>Driven_Wheels</th>\n",
       "      <th>Number of Doors</th>\n",
       "      <th>Market Category</th>\n",
       "      <th>Vehicle Size</th>\n",
       "      <th>Vehicle Style</th>\n",
       "      <th>highway MPG</th>\n",
       "      <th>city mpg</th>\n",
       "      <th>Popularity</th>\n",
       "      <th>MSRP</th>\n",
       "    </tr>\n",
       "  </thead>\n",
       "  <tbody>\n",
       "    <tr>\n",
       "      <th>0</th>\n",
       "      <td>BMW</td>\n",
       "      <td>1 Series M</td>\n",
       "      <td>2011</td>\n",
       "      <td>premium unleaded (required)</td>\n",
       "      <td>335.0</td>\n",
       "      <td>6.0</td>\n",
       "      <td>MANUAL</td>\n",
       "      <td>rear wheel drive</td>\n",
       "      <td>2.0</td>\n",
       "      <td>Factory Tuner,Luxury,High-Performance</td>\n",
       "      <td>Compact</td>\n",
       "      <td>Coupe</td>\n",
       "      <td>26</td>\n",
       "      <td>19</td>\n",
       "      <td>3916</td>\n",
       "      <td>46135</td>\n",
       "    </tr>\n",
       "    <tr>\n",
       "      <th>1</th>\n",
       "      <td>BMW</td>\n",
       "      <td>1 Series</td>\n",
       "      <td>2011</td>\n",
       "      <td>premium unleaded (required)</td>\n",
       "      <td>300.0</td>\n",
       "      <td>6.0</td>\n",
       "      <td>MANUAL</td>\n",
       "      <td>rear wheel drive</td>\n",
       "      <td>2.0</td>\n",
       "      <td>Luxury,Performance</td>\n",
       "      <td>Compact</td>\n",
       "      <td>Convertible</td>\n",
       "      <td>28</td>\n",
       "      <td>19</td>\n",
       "      <td>3916</td>\n",
       "      <td>40650</td>\n",
       "    </tr>\n",
       "    <tr>\n",
       "      <th>2</th>\n",
       "      <td>BMW</td>\n",
       "      <td>1 Series</td>\n",
       "      <td>2011</td>\n",
       "      <td>premium unleaded (required)</td>\n",
       "      <td>300.0</td>\n",
       "      <td>6.0</td>\n",
       "      <td>MANUAL</td>\n",
       "      <td>rear wheel drive</td>\n",
       "      <td>2.0</td>\n",
       "      <td>Luxury,High-Performance</td>\n",
       "      <td>Compact</td>\n",
       "      <td>Coupe</td>\n",
       "      <td>28</td>\n",
       "      <td>20</td>\n",
       "      <td>3916</td>\n",
       "      <td>36350</td>\n",
       "    </tr>\n",
       "    <tr>\n",
       "      <th>3</th>\n",
       "      <td>BMW</td>\n",
       "      <td>1 Series</td>\n",
       "      <td>2011</td>\n",
       "      <td>premium unleaded (required)</td>\n",
       "      <td>230.0</td>\n",
       "      <td>6.0</td>\n",
       "      <td>MANUAL</td>\n",
       "      <td>rear wheel drive</td>\n",
       "      <td>2.0</td>\n",
       "      <td>Luxury,Performance</td>\n",
       "      <td>Compact</td>\n",
       "      <td>Coupe</td>\n",
       "      <td>28</td>\n",
       "      <td>18</td>\n",
       "      <td>3916</td>\n",
       "      <td>29450</td>\n",
       "    </tr>\n",
       "    <tr>\n",
       "      <th>4</th>\n",
       "      <td>BMW</td>\n",
       "      <td>1 Series</td>\n",
       "      <td>2011</td>\n",
       "      <td>premium unleaded (required)</td>\n",
       "      <td>230.0</td>\n",
       "      <td>6.0</td>\n",
       "      <td>MANUAL</td>\n",
       "      <td>rear wheel drive</td>\n",
       "      <td>2.0</td>\n",
       "      <td>Luxury</td>\n",
       "      <td>Compact</td>\n",
       "      <td>Convertible</td>\n",
       "      <td>28</td>\n",
       "      <td>18</td>\n",
       "      <td>3916</td>\n",
       "      <td>34500</td>\n",
       "    </tr>\n",
       "  </tbody>\n",
       "</table>\n",
       "</div>"
      ],
      "text/plain": [
       "  Make       Model  Year             Engine Fuel Type  Engine HP  \\\n",
       "0  BMW  1 Series M  2011  premium unleaded (required)      335.0   \n",
       "1  BMW    1 Series  2011  premium unleaded (required)      300.0   \n",
       "2  BMW    1 Series  2011  premium unleaded (required)      300.0   \n",
       "3  BMW    1 Series  2011  premium unleaded (required)      230.0   \n",
       "4  BMW    1 Series  2011  premium unleaded (required)      230.0   \n",
       "\n",
       "   Engine Cylinders Transmission Type     Driven_Wheels  Number of Doors  \\\n",
       "0               6.0            MANUAL  rear wheel drive              2.0   \n",
       "1               6.0            MANUAL  rear wheel drive              2.0   \n",
       "2               6.0            MANUAL  rear wheel drive              2.0   \n",
       "3               6.0            MANUAL  rear wheel drive              2.0   \n",
       "4               6.0            MANUAL  rear wheel drive              2.0   \n",
       "\n",
       "                         Market Category Vehicle Size Vehicle Style  \\\n",
       "0  Factory Tuner,Luxury,High-Performance      Compact         Coupe   \n",
       "1                     Luxury,Performance      Compact   Convertible   \n",
       "2                Luxury,High-Performance      Compact         Coupe   \n",
       "3                     Luxury,Performance      Compact         Coupe   \n",
       "4                                 Luxury      Compact   Convertible   \n",
       "\n",
       "   highway MPG  city mpg  Popularity   MSRP  \n",
       "0           26        19        3916  46135  \n",
       "1           28        19        3916  40650  \n",
       "2           28        20        3916  36350  \n",
       "3           28        18        3916  29450  \n",
       "4           28        18        3916  34500  "
      ]
     },
     "execution_count": 65,
     "metadata": {},
     "output_type": "execute_result"
    }
   ],
   "source": [
    "df.head()"
   ]
  },
  {
   "cell_type": "code",
   "execution_count": 66,
   "metadata": {},
   "outputs": [],
   "source": [
    "df.columns = df.columns.str.lower().str.replace(' ', '_')"
   ]
  },
  {
   "cell_type": "code",
   "execution_count": 67,
   "metadata": {},
   "outputs": [
    {
     "data": {
      "text/plain": [
       "0            bmw\n",
       "1            bmw\n",
       "2            bmw\n",
       "3            bmw\n",
       "4            bmw\n",
       "          ...   \n",
       "11909      acura\n",
       "11910      acura\n",
       "11911      acura\n",
       "11912      acura\n",
       "11913    lincoln\n",
       "Name: make, Length: 11914, dtype: object"
      ]
     },
     "execution_count": 67,
     "metadata": {},
     "output_type": "execute_result"
    }
   ],
   "source": [
    "df['make'].str.lower().str.replace(' ', '_')"
   ]
  },
  {
   "cell_type": "code",
   "execution_count": 68,
   "metadata": {},
   "outputs": [
    {
     "data": {
      "text/plain": [
       "['make',\n",
       " 'model',\n",
       " 'engine_fuel_type',\n",
       " 'transmission_type',\n",
       " 'driven_wheels',\n",
       " 'market_category',\n",
       " 'vehicle_size',\n",
       " 'vehicle_style']"
      ]
     },
     "execution_count": 68,
     "metadata": {},
     "output_type": "execute_result"
    }
   ],
   "source": [
    "strings = list(df.dtypes[df.dtypes == 'object'].index)\n",
    "strings"
   ]
  },
  {
   "cell_type": "code",
   "execution_count": 69,
   "metadata": {},
   "outputs": [],
   "source": [
    "for col in strings:\n",
    "    df[col] = df[col].str.lower().str.replace(' ', '_')"
   ]
  },
  {
   "cell_type": "code",
   "execution_count": 70,
   "metadata": {},
   "outputs": [
    {
     "data": {
      "text/plain": [
       "make                  object\n",
       "model                 object\n",
       "year                   int64\n",
       "engine_fuel_type      object\n",
       "engine_hp            float64\n",
       "engine_cylinders     float64\n",
       "transmission_type     object\n",
       "driven_wheels         object\n",
       "number_of_doors      float64\n",
       "market_category       object\n",
       "vehicle_size          object\n",
       "vehicle_style         object\n",
       "highway_mpg            int64\n",
       "city_mpg               int64\n",
       "popularity             int64\n",
       "msrp                   int64\n",
       "dtype: object"
      ]
     },
     "execution_count": 70,
     "metadata": {},
     "output_type": "execute_result"
    }
   ],
   "source": [
    "df.dtypes"
   ]
  },
  {
   "cell_type": "markdown",
   "metadata": {},
   "source": [
    "## 2.3 Exploratory data analysis"
   ]
  },
  {
   "cell_type": "code",
   "execution_count": 71,
   "metadata": {},
   "outputs": [
    {
     "name": "stdout",
     "output_type": "stream",
     "text": [
      "make\n",
      "['bmw' 'audi' 'fiat' 'mercedes-benz' 'chrysler']\n",
      "48\n",
      "\n",
      "model\n",
      "['1_series_m' '1_series' '100' '124_spider' '190-class']\n",
      "914\n",
      "\n",
      "year\n",
      "[2011 2012 2013 1992 1993]\n",
      "28\n",
      "\n",
      "engine_fuel_type\n",
      "['premium_unleaded_(required)' 'regular_unleaded'\n",
      " 'premium_unleaded_(recommended)' 'flex-fuel_(unleaded/e85)' 'diesel']\n",
      "10\n",
      "\n",
      "engine_hp\n",
      "[335. 300. 230. 320. 172.]\n",
      "356\n",
      "\n",
      "engine_cylinders\n",
      "[ 6.  4.  5.  8. 12.]\n",
      "9\n",
      "\n",
      "transmission_type\n",
      "['manual' 'automatic' 'automated_manual' 'direct_drive' 'unknown']\n",
      "5\n",
      "\n",
      "driven_wheels\n",
      "['rear_wheel_drive' 'front_wheel_drive' 'all_wheel_drive'\n",
      " 'four_wheel_drive']\n",
      "4\n",
      "\n",
      "number_of_doors\n",
      "[ 2.  4.  3. nan]\n",
      "3\n",
      "\n",
      "market_category\n",
      "['factory_tuner,luxury,high-performance' 'luxury,performance'\n",
      " 'luxury,high-performance' 'luxury' 'performance']\n",
      "71\n",
      "\n",
      "vehicle_size\n",
      "['compact' 'midsize' 'large']\n",
      "3\n",
      "\n",
      "vehicle_style\n",
      "['coupe' 'convertible' 'sedan' 'wagon' '4dr_hatchback']\n",
      "16\n",
      "\n",
      "highway_mpg\n",
      "[26 28 27 25 24]\n",
      "59\n",
      "\n",
      "city_mpg\n",
      "[19 20 18 17 16]\n",
      "69\n",
      "\n",
      "popularity\n",
      "[3916 3105  819  617 1013]\n",
      "48\n",
      "\n",
      "msrp\n",
      "[46135 40650 36350 29450 34500]\n",
      "6049\n",
      "\n"
     ]
    }
   ],
   "source": [
    "for col in df.columns:\n",
    "    print(col)\n",
    "    print(df[col].unique()[:5])\n",
    "    print(df[col].nunique())\n",
    "    print()"
   ]
  },
  {
   "cell_type": "code",
   "execution_count": 72,
   "metadata": {},
   "outputs": [
    {
     "data": {
      "text/html": [
       "<div>\n",
       "<style scoped>\n",
       "    .dataframe tbody tr th:only-of-type {\n",
       "        vertical-align: middle;\n",
       "    }\n",
       "\n",
       "    .dataframe tbody tr th {\n",
       "        vertical-align: top;\n",
       "    }\n",
       "\n",
       "    .dataframe thead th {\n",
       "        text-align: right;\n",
       "    }\n",
       "</style>\n",
       "<table border=\"1\" class=\"dataframe\">\n",
       "  <thead>\n",
       "    <tr style=\"text-align: right;\">\n",
       "      <th></th>\n",
       "      <th>make</th>\n",
       "      <th>model</th>\n",
       "      <th>year</th>\n",
       "      <th>engine_fuel_type</th>\n",
       "      <th>engine_hp</th>\n",
       "      <th>engine_cylinders</th>\n",
       "      <th>transmission_type</th>\n",
       "      <th>driven_wheels</th>\n",
       "      <th>number_of_doors</th>\n",
       "      <th>market_category</th>\n",
       "      <th>vehicle_size</th>\n",
       "      <th>vehicle_style</th>\n",
       "      <th>highway_mpg</th>\n",
       "      <th>city_mpg</th>\n",
       "      <th>popularity</th>\n",
       "      <th>msrp</th>\n",
       "    </tr>\n",
       "  </thead>\n",
       "  <tbody>\n",
       "    <tr>\n",
       "      <th>0</th>\n",
       "      <td>bmw</td>\n",
       "      <td>1_series_m</td>\n",
       "      <td>2011</td>\n",
       "      <td>premium_unleaded_(required)</td>\n",
       "      <td>335.0</td>\n",
       "      <td>6.0</td>\n",
       "      <td>manual</td>\n",
       "      <td>rear_wheel_drive</td>\n",
       "      <td>2.0</td>\n",
       "      <td>factory_tuner,luxury,high-performance</td>\n",
       "      <td>compact</td>\n",
       "      <td>coupe</td>\n",
       "      <td>26</td>\n",
       "      <td>19</td>\n",
       "      <td>3916</td>\n",
       "      <td>46135</td>\n",
       "    </tr>\n",
       "    <tr>\n",
       "      <th>1</th>\n",
       "      <td>bmw</td>\n",
       "      <td>1_series</td>\n",
       "      <td>2011</td>\n",
       "      <td>premium_unleaded_(required)</td>\n",
       "      <td>300.0</td>\n",
       "      <td>6.0</td>\n",
       "      <td>manual</td>\n",
       "      <td>rear_wheel_drive</td>\n",
       "      <td>2.0</td>\n",
       "      <td>luxury,performance</td>\n",
       "      <td>compact</td>\n",
       "      <td>convertible</td>\n",
       "      <td>28</td>\n",
       "      <td>19</td>\n",
       "      <td>3916</td>\n",
       "      <td>40650</td>\n",
       "    </tr>\n",
       "    <tr>\n",
       "      <th>2</th>\n",
       "      <td>bmw</td>\n",
       "      <td>1_series</td>\n",
       "      <td>2011</td>\n",
       "      <td>premium_unleaded_(required)</td>\n",
       "      <td>300.0</td>\n",
       "      <td>6.0</td>\n",
       "      <td>manual</td>\n",
       "      <td>rear_wheel_drive</td>\n",
       "      <td>2.0</td>\n",
       "      <td>luxury,high-performance</td>\n",
       "      <td>compact</td>\n",
       "      <td>coupe</td>\n",
       "      <td>28</td>\n",
       "      <td>20</td>\n",
       "      <td>3916</td>\n",
       "      <td>36350</td>\n",
       "    </tr>\n",
       "    <tr>\n",
       "      <th>3</th>\n",
       "      <td>bmw</td>\n",
       "      <td>1_series</td>\n",
       "      <td>2011</td>\n",
       "      <td>premium_unleaded_(required)</td>\n",
       "      <td>230.0</td>\n",
       "      <td>6.0</td>\n",
       "      <td>manual</td>\n",
       "      <td>rear_wheel_drive</td>\n",
       "      <td>2.0</td>\n",
       "      <td>luxury,performance</td>\n",
       "      <td>compact</td>\n",
       "      <td>coupe</td>\n",
       "      <td>28</td>\n",
       "      <td>18</td>\n",
       "      <td>3916</td>\n",
       "      <td>29450</td>\n",
       "    </tr>\n",
       "    <tr>\n",
       "      <th>4</th>\n",
       "      <td>bmw</td>\n",
       "      <td>1_series</td>\n",
       "      <td>2011</td>\n",
       "      <td>premium_unleaded_(required)</td>\n",
       "      <td>230.0</td>\n",
       "      <td>6.0</td>\n",
       "      <td>manual</td>\n",
       "      <td>rear_wheel_drive</td>\n",
       "      <td>2.0</td>\n",
       "      <td>luxury</td>\n",
       "      <td>compact</td>\n",
       "      <td>convertible</td>\n",
       "      <td>28</td>\n",
       "      <td>18</td>\n",
       "      <td>3916</td>\n",
       "      <td>34500</td>\n",
       "    </tr>\n",
       "    <tr>\n",
       "      <th>...</th>\n",
       "      <td>...</td>\n",
       "      <td>...</td>\n",
       "      <td>...</td>\n",
       "      <td>...</td>\n",
       "      <td>...</td>\n",
       "      <td>...</td>\n",
       "      <td>...</td>\n",
       "      <td>...</td>\n",
       "      <td>...</td>\n",
       "      <td>...</td>\n",
       "      <td>...</td>\n",
       "      <td>...</td>\n",
       "      <td>...</td>\n",
       "      <td>...</td>\n",
       "      <td>...</td>\n",
       "      <td>...</td>\n",
       "    </tr>\n",
       "    <tr>\n",
       "      <th>11909</th>\n",
       "      <td>acura</td>\n",
       "      <td>zdx</td>\n",
       "      <td>2012</td>\n",
       "      <td>premium_unleaded_(required)</td>\n",
       "      <td>300.0</td>\n",
       "      <td>6.0</td>\n",
       "      <td>automatic</td>\n",
       "      <td>all_wheel_drive</td>\n",
       "      <td>4.0</td>\n",
       "      <td>crossover,hatchback,luxury</td>\n",
       "      <td>midsize</td>\n",
       "      <td>4dr_hatchback</td>\n",
       "      <td>23</td>\n",
       "      <td>16</td>\n",
       "      <td>204</td>\n",
       "      <td>46120</td>\n",
       "    </tr>\n",
       "    <tr>\n",
       "      <th>11910</th>\n",
       "      <td>acura</td>\n",
       "      <td>zdx</td>\n",
       "      <td>2012</td>\n",
       "      <td>premium_unleaded_(required)</td>\n",
       "      <td>300.0</td>\n",
       "      <td>6.0</td>\n",
       "      <td>automatic</td>\n",
       "      <td>all_wheel_drive</td>\n",
       "      <td>4.0</td>\n",
       "      <td>crossover,hatchback,luxury</td>\n",
       "      <td>midsize</td>\n",
       "      <td>4dr_hatchback</td>\n",
       "      <td>23</td>\n",
       "      <td>16</td>\n",
       "      <td>204</td>\n",
       "      <td>56670</td>\n",
       "    </tr>\n",
       "    <tr>\n",
       "      <th>11911</th>\n",
       "      <td>acura</td>\n",
       "      <td>zdx</td>\n",
       "      <td>2012</td>\n",
       "      <td>premium_unleaded_(required)</td>\n",
       "      <td>300.0</td>\n",
       "      <td>6.0</td>\n",
       "      <td>automatic</td>\n",
       "      <td>all_wheel_drive</td>\n",
       "      <td>4.0</td>\n",
       "      <td>crossover,hatchback,luxury</td>\n",
       "      <td>midsize</td>\n",
       "      <td>4dr_hatchback</td>\n",
       "      <td>23</td>\n",
       "      <td>16</td>\n",
       "      <td>204</td>\n",
       "      <td>50620</td>\n",
       "    </tr>\n",
       "    <tr>\n",
       "      <th>11912</th>\n",
       "      <td>acura</td>\n",
       "      <td>zdx</td>\n",
       "      <td>2013</td>\n",
       "      <td>premium_unleaded_(recommended)</td>\n",
       "      <td>300.0</td>\n",
       "      <td>6.0</td>\n",
       "      <td>automatic</td>\n",
       "      <td>all_wheel_drive</td>\n",
       "      <td>4.0</td>\n",
       "      <td>crossover,hatchback,luxury</td>\n",
       "      <td>midsize</td>\n",
       "      <td>4dr_hatchback</td>\n",
       "      <td>23</td>\n",
       "      <td>16</td>\n",
       "      <td>204</td>\n",
       "      <td>50920</td>\n",
       "    </tr>\n",
       "    <tr>\n",
       "      <th>11913</th>\n",
       "      <td>lincoln</td>\n",
       "      <td>zephyr</td>\n",
       "      <td>2006</td>\n",
       "      <td>regular_unleaded</td>\n",
       "      <td>221.0</td>\n",
       "      <td>6.0</td>\n",
       "      <td>automatic</td>\n",
       "      <td>front_wheel_drive</td>\n",
       "      <td>4.0</td>\n",
       "      <td>luxury</td>\n",
       "      <td>midsize</td>\n",
       "      <td>sedan</td>\n",
       "      <td>26</td>\n",
       "      <td>17</td>\n",
       "      <td>61</td>\n",
       "      <td>28995</td>\n",
       "    </tr>\n",
       "  </tbody>\n",
       "</table>\n",
       "<p>11914 rows × 16 columns</p>\n",
       "</div>"
      ],
      "text/plain": [
       "          make       model  year                engine_fuel_type  engine_hp  \\\n",
       "0          bmw  1_series_m  2011     premium_unleaded_(required)      335.0   \n",
       "1          bmw    1_series  2011     premium_unleaded_(required)      300.0   \n",
       "2          bmw    1_series  2011     premium_unleaded_(required)      300.0   \n",
       "3          bmw    1_series  2011     premium_unleaded_(required)      230.0   \n",
       "4          bmw    1_series  2011     premium_unleaded_(required)      230.0   \n",
       "...        ...         ...   ...                             ...        ...   \n",
       "11909    acura         zdx  2012     premium_unleaded_(required)      300.0   \n",
       "11910    acura         zdx  2012     premium_unleaded_(required)      300.0   \n",
       "11911    acura         zdx  2012     premium_unleaded_(required)      300.0   \n",
       "11912    acura         zdx  2013  premium_unleaded_(recommended)      300.0   \n",
       "11913  lincoln      zephyr  2006                regular_unleaded      221.0   \n",
       "\n",
       "       engine_cylinders transmission_type      driven_wheels  number_of_doors  \\\n",
       "0                   6.0            manual   rear_wheel_drive              2.0   \n",
       "1                   6.0            manual   rear_wheel_drive              2.0   \n",
       "2                   6.0            manual   rear_wheel_drive              2.0   \n",
       "3                   6.0            manual   rear_wheel_drive              2.0   \n",
       "4                   6.0            manual   rear_wheel_drive              2.0   \n",
       "...                 ...               ...                ...              ...   \n",
       "11909               6.0         automatic    all_wheel_drive              4.0   \n",
       "11910               6.0         automatic    all_wheel_drive              4.0   \n",
       "11911               6.0         automatic    all_wheel_drive              4.0   \n",
       "11912               6.0         automatic    all_wheel_drive              4.0   \n",
       "11913               6.0         automatic  front_wheel_drive              4.0   \n",
       "\n",
       "                             market_category vehicle_size  vehicle_style  \\\n",
       "0      factory_tuner,luxury,high-performance      compact          coupe   \n",
       "1                         luxury,performance      compact    convertible   \n",
       "2                    luxury,high-performance      compact          coupe   \n",
       "3                         luxury,performance      compact          coupe   \n",
       "4                                     luxury      compact    convertible   \n",
       "...                                      ...          ...            ...   \n",
       "11909             crossover,hatchback,luxury      midsize  4dr_hatchback   \n",
       "11910             crossover,hatchback,luxury      midsize  4dr_hatchback   \n",
       "11911             crossover,hatchback,luxury      midsize  4dr_hatchback   \n",
       "11912             crossover,hatchback,luxury      midsize  4dr_hatchback   \n",
       "11913                                 luxury      midsize          sedan   \n",
       "\n",
       "       highway_mpg  city_mpg  popularity   msrp  \n",
       "0               26        19        3916  46135  \n",
       "1               28        19        3916  40650  \n",
       "2               28        20        3916  36350  \n",
       "3               28        18        3916  29450  \n",
       "4               28        18        3916  34500  \n",
       "...            ...       ...         ...    ...  \n",
       "11909           23        16         204  46120  \n",
       "11910           23        16         204  56670  \n",
       "11911           23        16         204  50620  \n",
       "11912           23        16         204  50920  \n",
       "11913           26        17          61  28995  \n",
       "\n",
       "[11914 rows x 16 columns]"
      ]
     },
     "execution_count": 72,
     "metadata": {},
     "output_type": "execute_result"
    }
   ],
   "source": [
    "df"
   ]
  },
  {
   "cell_type": "markdown",
   "metadata": {},
   "source": [
    "Distribution of price"
   ]
  },
  {
   "cell_type": "code",
   "execution_count": 73,
   "id": "fddc42a2",
   "metadata": {},
   "outputs": [],
   "source": [
    "import matplotlib.pyplot as plt\n",
    "import seaborn as sns\n",
    "\n",
    "%matplotlib inline"
   ]
  },
  {
   "cell_type": "code",
   "execution_count": 74,
   "metadata": {},
   "outputs": [
    {
     "data": {
      "image/png": "[encoded data removed]",
      "text/plain": [
       "<Figure size 640x480 with 1 Axes>"
      ]
     },
     "metadata": {},
     "output_type": "display_data"
    }
   ],
   "source": [
    "sns.histplot(df.msrp, bins=50); #long tail distribution"
   ]
  },
  {
   "cell_type": "code",
   "execution_count": 75,
   "metadata": {},
   "outputs": [
    {
     "data": {
      "image/png": "[encoded data removed]",
      "text/plain": [
       "<Figure size 640x480 with 1 Axes>"
      ]
     },
     "metadata": {},
     "output_type": "display_data"
    }
   ],
   "source": [
    "sns.histplot(df.msrp[df.msrp < 100000], bins=50); #checking the distribution zoom in"
   ]
  },
  {
   "cell_type": "code",
   "execution_count": 76,
   "metadata": {},
   "outputs": [
    {
     "data": {
      "text/plain": [
       "array([ 0.        ,  0.69314718,  2.39789527,  6.90875478, 11.51293546])"
      ]
     },
     "execution_count": 76,
     "metadata": {},
     "output_type": "execute_result"
    }
   ],
   "source": [
    "# applying log transformation might help to normalize the distribution with log1p\n",
    "np.log1p([0, 1, 10, 1000, 100000]) "
   ]
  },
  {
   "cell_type": "code",
   "execution_count": 77,
   "metadata": {},
   "outputs": [
    {
     "data": {
      "text/plain": [
       "array([ 0.        ,  0.69314718,  2.39789527,  6.90875478, 11.51292546])"
      ]
     },
     "execution_count": 77,
     "metadata": {},
     "output_type": "execute_result"
    }
   ],
   "source": [
    "#or add 1 to avoid log(0) add 1 to all values, but easier to use log1p\n",
    "np.log([0 + 1, 1+ 1, 10 + 1, 1000 + 1, 100000])"
   ]
  },
  {
   "cell_type": "code",
   "execution_count": 78,
   "metadata": {},
   "outputs": [],
   "source": [
    "price_logs = np.log1p(df.msrp)"
   ]
  },
  {
   "cell_type": "code",
   "execution_count": 79,
   "metadata": {},
   "outputs": [
    {
     "data": {
      "image/png": "[encoded data removed]",
      "text/plain": [
       "<Figure size 640x480 with 1 Axes>"
      ]
     },
     "metadata": {},
     "output_type": "display_data"
    }
   ],
   "source": [
    "sns.histplot(price_logs, bins=50);\n",
    "#tail is gone, but still not perfect"
   ]
  },
  {
   "cell_type": "markdown",
   "metadata": {},
   "source": [
    "Missing values"
   ]
  },
  {
   "cell_type": "code",
   "execution_count": 80,
   "metadata": {},
   "outputs": [
    {
     "data": {
      "text/plain": [
       "make                    0\n",
       "model                   0\n",
       "year                    0\n",
       "engine_fuel_type        3\n",
       "engine_hp              69\n",
       "engine_cylinders       30\n",
       "transmission_type       0\n",
       "driven_wheels           0\n",
       "number_of_doors         6\n",
       "market_category      3742\n",
       "vehicle_size            0\n",
       "vehicle_style           0\n",
       "highway_mpg             0\n",
       "city_mpg                0\n",
       "popularity              0\n",
       "msrp                    0\n",
       "dtype: int64"
      ]
     },
     "execution_count": 80,
     "metadata": {},
     "output_type": "execute_result"
    }
   ],
   "source": [
    "df.isnull().sum()"
   ]
  },
  {
   "cell_type": "markdown",
   "metadata": {},
   "source": [
    "## 2.4 Setting up the validation framework"
   ]
  },
  {
   "cell_type": "markdown",
   "metadata": {},
   "source": [
    "Let's draw it"
   ]
  },
  {
   "cell_type": "code",
   "execution_count": 81,
   "metadata": {},
   "outputs": [],
   "source": [
    "n = len(df)\n",
    "\n",
    "n_val = int(n * 0.2)\n",
    "n_test = int(n * 0.2)\n",
    "n_train = n - n_val - n_test"
   ]
  },
  {
   "cell_type": "code",
   "execution_count": 82,
   "metadata": {},
   "outputs": [
    {
     "data": {
      "text/plain": [
       "11914"
      ]
     },
     "execution_count": 82,
     "metadata": {},
     "output_type": "execute_result"
    }
   ],
   "source": [
    "n"
   ]
  },
  {
   "cell_type": "code",
   "execution_count": 83,
   "metadata": {},
   "outputs": [
    {
     "data": {
      "text/plain": [
       "(2382, 2382, 7150)"
      ]
     },
     "execution_count": 83,
     "metadata": {},
     "output_type": "execute_result"
    }
   ],
   "source": [
    "n_val, n_test, n_train"
   ]
  },
  {
   "cell_type": "code",
   "execution_count": 84,
   "metadata": {},
   "outputs": [
    {
     "data": {
      "text/html": [
       "<div>\n",
       "<style scoped>\n",
       "    .dataframe tbody tr th:only-of-type {\n",
       "        vertical-align: middle;\n",
       "    }\n",
       "\n",
       "    .dataframe tbody tr th {\n",
       "        vertical-align: top;\n",
       "    }\n",
       "\n",
       "    .dataframe thead th {\n",
       "        text-align: right;\n",
       "    }\n",
       "</style>\n",
       "<table border=\"1\" class=\"dataframe\">\n",
       "  <thead>\n",
       "    <tr style=\"text-align: right;\">\n",
       "      <th></th>\n",
       "      <th>make</th>\n",
       "      <th>model</th>\n",
       "      <th>year</th>\n",
       "      <th>engine_fuel_type</th>\n",
       "      <th>engine_hp</th>\n",
       "      <th>engine_cylinders</th>\n",
       "      <th>transmission_type</th>\n",
       "      <th>driven_wheels</th>\n",
       "      <th>number_of_doors</th>\n",
       "      <th>market_category</th>\n",
       "      <th>vehicle_size</th>\n",
       "      <th>vehicle_style</th>\n",
       "      <th>highway_mpg</th>\n",
       "      <th>city_mpg</th>\n",
       "      <th>popularity</th>\n",
       "      <th>msrp</th>\n",
       "    </tr>\n",
       "  </thead>\n",
       "  <tbody>\n",
       "    <tr>\n",
       "      <th>10</th>\n",
       "      <td>bmw</td>\n",
       "      <td>1_series</td>\n",
       "      <td>2013</td>\n",
       "      <td>premium_unleaded_(required)</td>\n",
       "      <td>300.0</td>\n",
       "      <td>6.0</td>\n",
       "      <td>manual</td>\n",
       "      <td>rear_wheel_drive</td>\n",
       "      <td>2.0</td>\n",
       "      <td>luxury,high-performance</td>\n",
       "      <td>compact</td>\n",
       "      <td>coupe</td>\n",
       "      <td>28</td>\n",
       "      <td>20</td>\n",
       "      <td>3916</td>\n",
       "      <td>39600</td>\n",
       "    </tr>\n",
       "    <tr>\n",
       "      <th>0</th>\n",
       "      <td>bmw</td>\n",
       "      <td>1_series_m</td>\n",
       "      <td>2011</td>\n",
       "      <td>premium_unleaded_(required)</td>\n",
       "      <td>335.0</td>\n",
       "      <td>6.0</td>\n",
       "      <td>manual</td>\n",
       "      <td>rear_wheel_drive</td>\n",
       "      <td>2.0</td>\n",
       "      <td>factory_tuner,luxury,high-performance</td>\n",
       "      <td>compact</td>\n",
       "      <td>coupe</td>\n",
       "      <td>26</td>\n",
       "      <td>19</td>\n",
       "      <td>3916</td>\n",
       "      <td>46135</td>\n",
       "    </tr>\n",
       "    <tr>\n",
       "      <th>3</th>\n",
       "      <td>bmw</td>\n",
       "      <td>1_series</td>\n",
       "      <td>2011</td>\n",
       "      <td>premium_unleaded_(required)</td>\n",
       "      <td>230.0</td>\n",
       "      <td>6.0</td>\n",
       "      <td>manual</td>\n",
       "      <td>rear_wheel_drive</td>\n",
       "      <td>2.0</td>\n",
       "      <td>luxury,performance</td>\n",
       "      <td>compact</td>\n",
       "      <td>coupe</td>\n",
       "      <td>28</td>\n",
       "      <td>18</td>\n",
       "      <td>3916</td>\n",
       "      <td>29450</td>\n",
       "    </tr>\n",
       "    <tr>\n",
       "      <th>5</th>\n",
       "      <td>bmw</td>\n",
       "      <td>1_series</td>\n",
       "      <td>2012</td>\n",
       "      <td>premium_unleaded_(required)</td>\n",
       "      <td>230.0</td>\n",
       "      <td>6.0</td>\n",
       "      <td>manual</td>\n",
       "      <td>rear_wheel_drive</td>\n",
       "      <td>2.0</td>\n",
       "      <td>luxury,performance</td>\n",
       "      <td>compact</td>\n",
       "      <td>coupe</td>\n",
       "      <td>28</td>\n",
       "      <td>18</td>\n",
       "      <td>3916</td>\n",
       "      <td>31200</td>\n",
       "    </tr>\n",
       "  </tbody>\n",
       "</table>\n",
       "</div>"
      ],
      "text/plain": [
       "   make       model  year             engine_fuel_type  engine_hp  \\\n",
       "10  bmw    1_series  2013  premium_unleaded_(required)      300.0   \n",
       "0   bmw  1_series_m  2011  premium_unleaded_(required)      335.0   \n",
       "3   bmw    1_series  2011  premium_unleaded_(required)      230.0   \n",
       "5   bmw    1_series  2012  premium_unleaded_(required)      230.0   \n",
       "\n",
       "    engine_cylinders transmission_type     driven_wheels  number_of_doors  \\\n",
       "10               6.0            manual  rear_wheel_drive              2.0   \n",
       "0                6.0            manual  rear_wheel_drive              2.0   \n",
       "3                6.0            manual  rear_wheel_drive              2.0   \n",
       "5                6.0            manual  rear_wheel_drive              2.0   \n",
       "\n",
       "                          market_category vehicle_size vehicle_style  \\\n",
       "10                luxury,high-performance      compact         coupe   \n",
       "0   factory_tuner,luxury,high-performance      compact         coupe   \n",
       "3                      luxury,performance      compact         coupe   \n",
       "5                      luxury,performance      compact         coupe   \n",
       "\n",
       "    highway_mpg  city_mpg  popularity   msrp  \n",
       "10           28        20        3916  39600  \n",
       "0            26        19        3916  46135  \n",
       "3            28        18        3916  29450  \n",
       "5            28        18        3916  31200  "
      ]
     },
     "execution_count": 84,
     "metadata": {},
     "output_type": "execute_result"
    }
   ],
   "source": [
    "df.iloc[[10, 0, 3, 5]]"
   ]
  },
  {
   "cell_type": "code",
   "execution_count": 85,
   "metadata": {},
   "outputs": [],
   "source": [
    "df_train = df.iloc[:n_train]\n",
    "df_val = df.iloc[n_train:n_train+n_val]\n",
    "df_test = df.iloc[n_train+n_val:]"
   ]
  },
  {
   "cell_type": "code",
   "execution_count": 86,
   "metadata": {},
   "outputs": [],
   "source": [
    "idx = np.arange(n)"
   ]
  },
  {
   "cell_type": "code",
   "execution_count": 87,
   "metadata": {},
   "outputs": [],
   "source": [
    "np.random.seed(2)\n",
    "np.random.shuffle(idx)"
   ]
  },
  {
   "cell_type": "code",
   "execution_count": 88,
   "metadata": {},
   "outputs": [],
   "source": [
    "df_train = df.iloc[idx[:n_train]]\n",
    "df_val = df.iloc[idx[n_train:n_train+n_val]]\n",
    "df_test = df.iloc[idx[n_train+n_val:]]"
   ]
  },
  {
   "cell_type": "code",
   "execution_count": 89,
   "metadata": {},
   "outputs": [
    {
     "data": {
      "text/html": [
       "<div>\n",
       "<style scoped>\n",
       "    .dataframe tbody tr th:only-of-type {\n",
       "        vertical-align: middle;\n",
       "    }\n",
       "\n",
       "    .dataframe tbody tr th {\n",
       "        vertical-align: top;\n",
       "    }\n",
       "\n",
       "    .dataframe thead th {\n",
       "        text-align: right;\n",
       "    }\n",
       "</style>\n",
       "<table border=\"1\" class=\"dataframe\">\n",
       "  <thead>\n",
       "    <tr style=\"text-align: right;\">\n",
       "      <th></th>\n",
       "      <th>make</th>\n",
       "      <th>model</th>\n",
       "      <th>year</th>\n",
       "      <th>engine_fuel_type</th>\n",
       "      <th>engine_hp</th>\n",
       "      <th>engine_cylinders</th>\n",
       "      <th>transmission_type</th>\n",
       "      <th>driven_wheels</th>\n",
       "      <th>number_of_doors</th>\n",
       "      <th>market_category</th>\n",
       "      <th>vehicle_size</th>\n",
       "      <th>vehicle_style</th>\n",
       "      <th>highway_mpg</th>\n",
       "      <th>city_mpg</th>\n",
       "      <th>popularity</th>\n",
       "      <th>msrp</th>\n",
       "    </tr>\n",
       "  </thead>\n",
       "  <tbody>\n",
       "    <tr>\n",
       "      <th>2735</th>\n",
       "      <td>chevrolet</td>\n",
       "      <td>cobalt</td>\n",
       "      <td>2008</td>\n",
       "      <td>regular_unleaded</td>\n",
       "      <td>148.0</td>\n",
       "      <td>4.0</td>\n",
       "      <td>manual</td>\n",
       "      <td>front_wheel_drive</td>\n",
       "      <td>2.0</td>\n",
       "      <td>NaN</td>\n",
       "      <td>compact</td>\n",
       "      <td>coupe</td>\n",
       "      <td>33</td>\n",
       "      <td>24</td>\n",
       "      <td>1385</td>\n",
       "      <td>14410</td>\n",
       "    </tr>\n",
       "    <tr>\n",
       "      <th>6720</th>\n",
       "      <td>toyota</td>\n",
       "      <td>matrix</td>\n",
       "      <td>2012</td>\n",
       "      <td>regular_unleaded</td>\n",
       "      <td>132.0</td>\n",
       "      <td>4.0</td>\n",
       "      <td>automatic</td>\n",
       "      <td>front_wheel_drive</td>\n",
       "      <td>4.0</td>\n",
       "      <td>hatchback</td>\n",
       "      <td>compact</td>\n",
       "      <td>4dr_hatchback</td>\n",
       "      <td>32</td>\n",
       "      <td>25</td>\n",
       "      <td>2031</td>\n",
       "      <td>19685</td>\n",
       "    </tr>\n",
       "    <tr>\n",
       "      <th>5878</th>\n",
       "      <td>subaru</td>\n",
       "      <td>impreza</td>\n",
       "      <td>2016</td>\n",
       "      <td>regular_unleaded</td>\n",
       "      <td>148.0</td>\n",
       "      <td>4.0</td>\n",
       "      <td>automatic</td>\n",
       "      <td>all_wheel_drive</td>\n",
       "      <td>4.0</td>\n",
       "      <td>hatchback</td>\n",
       "      <td>compact</td>\n",
       "      <td>4dr_hatchback</td>\n",
       "      <td>37</td>\n",
       "      <td>28</td>\n",
       "      <td>640</td>\n",
       "      <td>19795</td>\n",
       "    </tr>\n",
       "    <tr>\n",
       "      <th>11190</th>\n",
       "      <td>volkswagen</td>\n",
       "      <td>vanagon</td>\n",
       "      <td>1991</td>\n",
       "      <td>regular_unleaded</td>\n",
       "      <td>90.0</td>\n",
       "      <td>4.0</td>\n",
       "      <td>manual</td>\n",
       "      <td>rear_wheel_drive</td>\n",
       "      <td>3.0</td>\n",
       "      <td>NaN</td>\n",
       "      <td>large</td>\n",
       "      <td>passenger_minivan</td>\n",
       "      <td>18</td>\n",
       "      <td>16</td>\n",
       "      <td>873</td>\n",
       "      <td>2000</td>\n",
       "    </tr>\n",
       "    <tr>\n",
       "      <th>4554</th>\n",
       "      <td>ford</td>\n",
       "      <td>f-150</td>\n",
       "      <td>2017</td>\n",
       "      <td>flex-fuel_(unleaded/e85)</td>\n",
       "      <td>385.0</td>\n",
       "      <td>8.0</td>\n",
       "      <td>automatic</td>\n",
       "      <td>four_wheel_drive</td>\n",
       "      <td>4.0</td>\n",
       "      <td>flex_fuel</td>\n",
       "      <td>large</td>\n",
       "      <td>crew_cab_pickup</td>\n",
       "      <td>21</td>\n",
       "      <td>15</td>\n",
       "      <td>5657</td>\n",
       "      <td>56260</td>\n",
       "    </tr>\n",
       "  </tbody>\n",
       "</table>\n",
       "</div>"
      ],
      "text/plain": [
       "             make    model  year          engine_fuel_type  engine_hp  \\\n",
       "2735    chevrolet   cobalt  2008          regular_unleaded      148.0   \n",
       "6720       toyota   matrix  2012          regular_unleaded      132.0   \n",
       "5878       subaru  impreza  2016          regular_unleaded      148.0   \n",
       "11190  volkswagen  vanagon  1991          regular_unleaded       90.0   \n",
       "4554         ford    f-150  2017  flex-fuel_(unleaded/e85)      385.0   \n",
       "\n",
       "       engine_cylinders transmission_type      driven_wheels  number_of_doors  \\\n",
       "2735                4.0            manual  front_wheel_drive              2.0   \n",
       "6720                4.0         automatic  front_wheel_drive              4.0   \n",
       "5878                4.0         automatic    all_wheel_drive              4.0   \n",
       "11190               4.0            manual   rear_wheel_drive              3.0   \n",
       "4554                8.0         automatic   four_wheel_drive              4.0   \n",
       "\n",
       "      market_category vehicle_size      vehicle_style  highway_mpg  city_mpg  \\\n",
       "2735              NaN      compact              coupe           33        24   \n",
       "6720        hatchback      compact      4dr_hatchback           32        25   \n",
       "5878        hatchback      compact      4dr_hatchback           37        28   \n",
       "11190             NaN        large  passenger_minivan           18        16   \n",
       "4554        flex_fuel        large    crew_cab_pickup           21        15   \n",
       "\n",
       "       popularity   msrp  \n",
       "2735         1385  14410  \n",
       "6720         2031  19685  \n",
       "5878          640  19795  \n",
       "11190         873   2000  \n",
       "4554         5657  56260  "
      ]
     },
     "execution_count": 89,
     "metadata": {},
     "output_type": "execute_result"
    }
   ],
   "source": [
    "df_train.head()"
   ]
  },
  {
   "cell_type": "code",
   "execution_count": 90,
   "metadata": {},
   "outputs": [
    {
     "data": {
      "text/plain": [
       "(7150, 2382, 2382)"
      ]
     },
     "execution_count": 90,
     "metadata": {},
     "output_type": "execute_result"
    }
   ],
   "source": [
    "len(df_train), len(df_val), len(df_test)"
   ]
  },
  {
   "cell_type": "code",
   "execution_count": 91,
   "metadata": {},
   "outputs": [],
   "source": [
    "df_train = df_train.reset_index(drop=True)\n",
    "df_val = df_val.reset_index(drop=True)\n",
    "df_test = df_test.reset_index(drop=True)"
   ]
  },
  {
   "cell_type": "code",
   "execution_count": 92,
   "metadata": {},
   "outputs": [],
   "source": [
    "y_train = np.log1p(df_train.msrp.values)\n",
    "y_val = np.log1p(df_val.msrp.values)\n",
    "y_test = np.log1p(df_test.msrp.values)"
   ]
  },
  {
   "cell_type": "code",
   "execution_count": 93,
   "metadata": {},
   "outputs": [],
   "source": [
    "del df_train['msrp']\n",
    "del df_val['msrp']\n",
    "del df_test['msrp']"
   ]
  },
  {
   "cell_type": "code",
   "execution_count": 94,
   "metadata": {},
   "outputs": [
    {
     "data": {
      "text/plain": [
       "7150"
      ]
     },
     "execution_count": 94,
     "metadata": {},
     "output_type": "execute_result"
    }
   ],
   "source": [
    "len(y_train)"
   ]
  },
  {
   "cell_type": "markdown",
   "metadata": {},
   "source": [
    "## 2.5 Linear regression"
   ]
  },
  {
   "cell_type": "markdown",
   "metadata": {},
   "source": [
    "draw"
   ]
  },
  {
   "cell_type": "code",
   "execution_count": 95,
   "metadata": {},
   "outputs": [
    {
     "data": {
      "text/plain": [
       "make                                 rolls-royce\n",
       "model                     phantom_drophead_coupe\n",
       "year                                        2015\n",
       "engine_fuel_type     premium_unleaded_(required)\n",
       "engine_hp                                  453.0\n",
       "engine_cylinders                            12.0\n",
       "transmission_type                      automatic\n",
       "driven_wheels                   rear_wheel_drive\n",
       "number_of_doors                              2.0\n",
       "market_category        exotic,luxury,performance\n",
       "vehicle_size                               large\n",
       "vehicle_style                        convertible\n",
       "highway_mpg                                   19\n",
       "city_mpg                                      11\n",
       "popularity                                    86\n",
       "Name: 10, dtype: object"
      ]
     },
     "execution_count": 95,
     "metadata": {},
     "output_type": "execute_result"
    }
   ],
   "source": [
    "df_train.iloc[10]"
   ]
  },
  {
   "cell_type": "code",
   "execution_count": null,
   "metadata": {},
   "outputs": [],
   "source": []
  },
  {
   "cell_type": "code",
   "execution_count": 96,
   "metadata": {},
   "outputs": [],
   "source": [
    "xi = [453, 11, 86]\n",
    "w0 = 7.17\n",
    "w = [0.01, 0.04, 0.002]"
   ]
  },
  {
   "cell_type": "code",
   "execution_count": 97,
   "metadata": {},
   "outputs": [],
   "source": [
    "def linear_regression(xi):\n",
    "    n = len(xi)\n",
    "\n",
    "    pred = w0\n",
    "\n",
    "    for j in range(n):\n",
    "        pred = pred + w[j] * xi[j]\n",
    "\n",
    "    return pred"
   ]
  },
  {
   "cell_type": "code",
   "execution_count": 98,
   "metadata": {},
   "outputs": [],
   "source": [
    "xi = [453, 11, 86]\n",
    "w0 = 7.17\n",
    "w = [0.01, 0.04, 0.002]"
   ]
  },
  {
   "cell_type": "code",
   "execution_count": 99,
   "metadata": {},
   "outputs": [
    {
     "data": {
      "text/plain": [
       "12.312"
      ]
     },
     "execution_count": 99,
     "metadata": {},
     "output_type": "execute_result"
    }
   ],
   "source": [
    "linear_regression(xi)"
   ]
  },
  {
   "cell_type": "code",
   "execution_count": 100,
   "metadata": {},
   "outputs": [
    {
     "data": {
      "text/plain": [
       "222347.2221101062"
      ]
     },
     "execution_count": 100,
     "metadata": {},
     "output_type": "execute_result"
    }
   ],
   "source": [
    "np.expm1(12.312)"
   ]
  },
  {
   "cell_type": "code",
   "execution_count": 101,
   "metadata": {
    "scrolled": true
   },
   "outputs": [
    {
     "data": {
      "text/plain": [
       "12.312"
      ]
     },
     "execution_count": 101,
     "metadata": {},
     "output_type": "execute_result"
    }
   ],
   "source": [
    "np.log1p(222347.2221101062)"
   ]
  },
  {
   "cell_type": "markdown",
   "metadata": {},
   "source": [
    "## 2.6 Linear regression vector form"
   ]
  },
  {
   "cell_type": "code",
   "execution_count": 102,
   "metadata": {},
   "outputs": [],
   "source": [
    "def dot(xi, w):\n",
    "    n = len(xi)\n",
    "    \n",
    "    res = 0.0\n",
    "    \n",
    "    for j in range(n):\n",
    "        res = res + xi[j] * w[j]\n",
    "    \n",
    "    return res"
   ]
  },
  {
   "cell_type": "code",
   "execution_count": 103,
   "metadata": {},
   "outputs": [],
   "source": [
    "def linear_regression(xi):\n",
    "    return w0 + dot(xi, w)"
   ]
  },
  {
   "cell_type": "code",
   "execution_count": 104,
   "metadata": {},
   "outputs": [],
   "source": [
    "w_new = [w0] + w"
   ]
  },
  {
   "cell_type": "code",
   "execution_count": 105,
   "metadata": {},
   "outputs": [
    {
     "data": {
      "text/plain": [
       "[7.17, 0.01, 0.04, 0.002]"
      ]
     },
     "execution_count": 105,
     "metadata": {},
     "output_type": "execute_result"
    }
   ],
   "source": [
    "w_new"
   ]
  },
  {
   "cell_type": "code",
   "execution_count": 106,
   "metadata": {},
   "outputs": [],
   "source": [
    "def linear_regression(xi):\n",
    "    xi = [1] + xi\n",
    "    return dot(xi, w_new)"
   ]
  },
  {
   "cell_type": "code",
   "execution_count": 107,
   "metadata": {},
   "outputs": [
    {
     "data": {
      "text/plain": [
       "12.312"
      ]
     },
     "execution_count": 107,
     "metadata": {},
     "output_type": "execute_result"
    }
   ],
   "source": [
    "linear_regression(xi)"
   ]
  },
  {
   "cell_type": "code",
   "execution_count": 108,
   "metadata": {},
   "outputs": [],
   "source": [
    "w0 = 7.17\n",
    "w = [0.01, 0.04, 0.002]\n",
    "w_new = [w0] + w"
   ]
  },
  {
   "cell_type": "code",
   "execution_count": 109,
   "metadata": {},
   "outputs": [
    {
     "data": {
      "text/plain": [
       "array([[   1,  148,   24, 1385],\n",
       "       [   1,  132,   25, 2031],\n",
       "       [   1,  453,   11,   86]])"
      ]
     },
     "execution_count": 109,
     "metadata": {},
     "output_type": "execute_result"
    }
   ],
   "source": [
    "x1  = [1, 148, 24, 1385]\n",
    "x2  = [1, 132, 25, 2031]\n",
    "x10 = [1, 453, 11, 86]\n",
    "\n",
    "X = [x1, x2, x10]\n",
    "X = np.array(X)\n",
    "X"
   ]
  },
  {
   "cell_type": "code",
   "execution_count": 110,
   "metadata": {},
   "outputs": [],
   "source": [
    "def linear_regression(X):\n",
    "    return X.dot(w_new)"
   ]
  },
  {
   "cell_type": "code",
   "execution_count": 111,
   "metadata": {},
   "outputs": [
    {
     "data": {
      "text/plain": [
       "array([12.38 , 13.552, 12.312])"
      ]
     },
     "execution_count": 111,
     "metadata": {},
     "output_type": "execute_result"
    }
   ],
   "source": [
    "linear_regression(X)"
   ]
  },
  {
   "cell_type": "markdown",
   "metadata": {},
   "source": [
    "## 2.7 Training a linear regression model"
   ]
  },
  {
   "cell_type": "code",
   "execution_count": 112,
   "metadata": {},
   "outputs": [],
   "source": [
    "def train_linear_regression(X, y):\n",
    "    pass"
   ]
  },
  {
   "cell_type": "code",
   "execution_count": 113,
   "metadata": {},
   "outputs": [
    {
     "data": {
      "text/plain": [
       "array([[ 148,   24, 1385],\n",
       "       [ 132,   25, 2031],\n",
       "       [ 453,   11,   86],\n",
       "       [ 158,   24,  185],\n",
       "       [ 172,   25,  201],\n",
       "       [ 413,   11,   86],\n",
       "       [  38,   54,  185],\n",
       "       [ 142,   25,  431],\n",
       "       [ 453,   31,   86]])"
      ]
     },
     "execution_count": 113,
     "metadata": {},
     "output_type": "execute_result"
    }
   ],
   "source": [
    "X = [\n",
    "    [148, 24, 1385],\n",
    "    [132, 25, 2031],\n",
    "    [453, 11, 86],\n",
    "    [158, 24, 185],\n",
    "    [172, 25, 201],\n",
    "    [413, 11, 86],\n",
    "    [38,  54, 185],\n",
    "    [142, 25, 431],\n",
    "    [453, 31, 86],\n",
    "]\n",
    "\n",
    "X = np.array(X)\n",
    "X"
   ]
  },
  {
   "cell_type": "code",
   "execution_count": 114,
   "metadata": {},
   "outputs": [
    {
     "data": {
      "text/plain": [
       "array([1., 1., 1., 1., 1., 1., 1., 1., 1.])"
      ]
     },
     "execution_count": 114,
     "metadata": {},
     "output_type": "execute_result"
    }
   ],
   "source": [
    "ones = np.ones(X.shape[0])\n",
    "ones"
   ]
  },
  {
   "cell_type": "code",
   "execution_count": 115,
   "metadata": {},
   "outputs": [],
   "source": [
    "X = np.column_stack([ones, X])"
   ]
  },
  {
   "cell_type": "code",
   "execution_count": 116,
   "metadata": {},
   "outputs": [],
   "source": [
    "y = [10000, 20000, 15000, 20050, 10000, 20000, 15000, 25000, 12000]"
   ]
  },
  {
   "cell_type": "code",
   "execution_count": 117,
   "metadata": {},
   "outputs": [],
   "source": [
    "XTX = X.T.dot(X)\n",
    "XTX_inv = np.linalg.inv(XTX)\n",
    "w_full = XTX_inv.dot(X.T).dot(y)"
   ]
  },
  {
   "cell_type": "code",
   "execution_count": 118,
   "metadata": {},
   "outputs": [],
   "source": [
    "w0 = w_full[0]\n",
    "w = w_full[1:]"
   ]
  },
  {
   "cell_type": "code",
   "execution_count": 119,
   "metadata": {},
   "outputs": [
    {
     "data": {
      "text/plain": [
       "(25844.754055766753, array([ -16.08906468, -199.47254894,   -1.22802883]))"
      ]
     },
     "execution_count": 119,
     "metadata": {},
     "output_type": "execute_result"
    }
   ],
   "source": [
    "w0, w"
   ]
  },
  {
   "cell_type": "code",
   "execution_count": 60,
   "metadata": {},
   "outputs": [],
   "source": [
    "def train_linear_regression(X, y):\n",
    "    ones = np.ones(X.shape[0])\n",
    "    X = np.column_stack([ones, X])\n",
    "\n",
    "    XTX = X.T.dot(X)\n",
    "    XTX_inv = np.linalg.inv(XTX)\n",
    "    w_full = XTX_inv.dot(X.T).dot(y)\n",
    "    \n",
    "    return w_full[0], w_full[1:]"
   ]
  },
  {
   "cell_type": "code",
   "execution_count": 61,
   "metadata": {},
   "outputs": [
    {
     "data": {
      "text/plain": [
       "(2.0460143454602068e+20,\n",
       " array([1.26525728e+20, 8.71025484e+01, 2.59709297e+02, 0.00000000e+00]))"
      ]
     },
     "execution_count": 61,
     "metadata": {},
     "output_type": "execute_result"
    }
   ],
   "source": [
    "train_linear_regression(X, y)"
   ]
  },
  {
   "cell_type": "markdown",
   "metadata": {},
   "source": [
    "## 2.8 Car price baseline model"
   ]
  },
  {
   "cell_type": "code",
   "execution_count": 62,
   "metadata": {},
   "outputs": [
    {
     "data": {
      "text/plain": [
       "Index(['make', 'model', 'year', 'engine_fuel_type', 'engine_hp',\n",
       "       'engine_cylinders', 'transmission_type', 'driven_wheels',\n",
       "       'number_of_doors', 'market_category', 'vehicle_size', 'vehicle_style',\n",
       "       'highway_mpg', 'city_mpg', 'popularity'],\n",
       "      dtype='object')"
      ]
     },
     "execution_count": 62,
     "metadata": {},
     "output_type": "execute_result"
    }
   ],
   "source": [
    "df_train.columns"
   ]
  },
  {
   "cell_type": "code",
   "execution_count": 63,
   "metadata": {
    "scrolled": true
   },
   "outputs": [],
   "source": [
    "base = ['engine_hp', 'engine_cylinders', 'highway_mpg',\n",
    "        'city_mpg', 'popularity']\n",
    "\n",
    "X_train = df_train[base].fillna(0).values\n",
    "\n",
    "w0, w = train_linear_regression(X_train, y_train)\n",
    "\n",
    "y_pred = w0 + X_train.dot(w)"
   ]
  },
  {
   "cell_type": "code",
   "execution_count": 64,
   "metadata": {},
   "outputs": [
    {
     "data": {
      "text/plain": [
       "7.9272573880700605"
      ]
     },
     "execution_count": 64,
     "metadata": {},
     "output_type": "execute_result"
    }
   ],
   "source": [
    "w0"
   ]
  },
  {
   "cell_type": "code",
   "execution_count": 65,
   "metadata": {},
   "outputs": [
    {
     "data": {
      "text/plain": [
       "array([ 9.70589522e-03, -1.59103494e-01,  1.43792133e-02,  1.49441072e-02,\n",
       "       -9.06908672e-06])"
      ]
     },
     "execution_count": 65,
     "metadata": {},
     "output_type": "execute_result"
    }
   ],
   "source": [
    "w"
   ]
  },
  {
   "cell_type": "code",
   "execution_count": 66,
   "metadata": {},
   "outputs": [
    {
     "data": {
      "text/plain": [
       "<AxesSubplot:ylabel='Count'>"
      ]
     },
     "execution_count": 66,
     "metadata": {},
     "output_type": "execute_result"
    },
    {
     "data": {
      "image/png": "[encoded data removed]",
      "text/plain": [
       "<Figure size 432x288 with 1 Axes>"
      ]
     },
     "metadata": {
      "needs_background": "light"
     },
     "output_type": "display_data"
    }
   ],
   "source": [
    "sns.histplot(y_pred, color='red', alpha=0.5, bins=50)\n",
    "sns.histplot(y_train, color='blue', alpha=0.5, bins=50)\n"
   ]
  },
  {
   "cell_type": "markdown",
   "metadata": {},
   "source": [
    "## 2.9 RMSE"
   ]
  },
  {
   "cell_type": "code",
   "execution_count": 67,
   "metadata": {},
   "outputs": [],
   "source": [
    "def rmse(y, y_pred):\n",
    "    se = (y - y_pred) ** 2\n",
    "    mse = se.mean()\n",
    "    return np.sqrt(mse)"
   ]
  },
  {
   "cell_type": "code",
   "execution_count": 68,
   "metadata": {},
   "outputs": [
    {
     "data": {
      "text/plain": [
       "0.7554192603920132"
      ]
     },
     "execution_count": 68,
     "metadata": {},
     "output_type": "execute_result"
    }
   ],
   "source": [
    "rmse(y_train, y_pred)"
   ]
  },
  {
   "cell_type": "markdown",
   "metadata": {},
   "source": [
    "## 2.10 Validating the model"
   ]
  },
  {
   "cell_type": "code",
   "execution_count": 69,
   "metadata": {},
   "outputs": [],
   "source": [
    "def prepare_X(df):\n",
    "    df_num = df[base]\n",
    "    df_num = df_num.fillna(0)\n",
    "    X = df_num.values\n",
    "    return X"
   ]
  },
  {
   "cell_type": "code",
   "execution_count": 70,
   "metadata": {},
   "outputs": [
    {
     "data": {
      "text/plain": [
       "0.7616530991301577"
      ]
     },
     "execution_count": 70,
     "metadata": {},
     "output_type": "execute_result"
    }
   ],
   "source": [
    "X_train = prepare_X(df_train)\n",
    "w0, w = train_linear_regression(X_train, y_train)\n",
    "\n",
    "X_val = prepare_X(df_val)\n",
    "y_pred = w0 + X_val.dot(w)\n",
    "rmse(y_val, y_pred)"
   ]
  },
  {
   "cell_type": "markdown",
   "metadata": {},
   "source": [
    "## 2.11 Simple feature engineering"
   ]
  },
  {
   "cell_type": "code",
   "execution_count": 71,
   "metadata": {},
   "outputs": [],
   "source": [
    "def prepare_X(df):\n",
    "    df = df.copy()\n",
    "    \n",
    "    df['age'] = 2017 - df['year']\n",
    "    features = base + ['age']\n",
    "    \n",
    "    df_num = df[features]\n",
    "    df_num = df_num.fillna(0)\n",
    "    X = df_num.values\n",
    "\n",
    "    return X"
   ]
  },
  {
   "cell_type": "code",
   "execution_count": 72,
   "metadata": {},
   "outputs": [
    {
     "data": {
      "text/plain": [
       "0.5172055461058291"
      ]
     },
     "execution_count": 72,
     "metadata": {},
     "output_type": "execute_result"
    }
   ],
   "source": [
    "X_train = prepare_X(df_train)\n",
    "w0, w = train_linear_regression(X_train, y_train)\n",
    "\n",
    "X_val = prepare_X(df_val)\n",
    "y_pred = w0 + X_val.dot(w)\n",
    "rmse(y_val, y_pred)"
   ]
  },
  {
   "cell_type": "code",
   "execution_count": 73,
   "metadata": {},
   "outputs": [
    {
     "data": {
      "text/plain": [
       "<matplotlib.legend.Legend at 0xff7e413fe3a0>"
      ]
     },
     "execution_count": 73,
     "metadata": {},
     "output_type": "execute_result"
    },
    {
     "data": {
      "image/png": "[encoded data removed]",
      "text/plain": [
       "<Figure size 432x288 with 1 Axes>"
      ]
     },
     "metadata": {
      "needs_background": "light"
     },
     "output_type": "display_data"
    }
   ],
   "source": [
    "sns.histplot(y_pred, label='prediction', color='red', alpha=0.5, bins=50)\n",
    "sns.histplot(y_val, label='target', color='blue',  alpha=0.5, bins=50)\n",
    "plt.legend()"
   ]
  },
  {
   "cell_type": "markdown",
   "metadata": {},
   "source": [
    "## 2.12 Categorical variables"
   ]
  },
  {
   "cell_type": "code",
   "execution_count": 74,
   "metadata": {},
   "outputs": [],
   "source": [
    "categorical_columns = [\n",
    "    'make', 'model', 'engine_fuel_type', 'driven_wheels', 'market_category',\n",
    "    'vehicle_size', 'vehicle_style']\n",
    "\n",
    "categorical = {}\n",
    "\n",
    "for c in categorical_columns:\n",
    "    categorical[c] = list(df_train[c].value_counts().head().index)"
   ]
  },
  {
   "cell_type": "code",
   "execution_count": 75,
   "metadata": {},
   "outputs": [],
   "source": [
    "def prepare_X(df):\n",
    "    df = df.copy()\n",
    "    \n",
    "    df['age'] = 2017 - df['year']\n",
    "    features = base + ['age']\n",
    "\n",
    "    for v in [2, 3, 4]:\n",
    "        df['num_doors_%d' % v] = (df.number_of_doors == v).astype(int)\n",
    "        features.append('num_doors_%d' % v)\n",
    "\n",
    "    for name, values in categorical.items():\n",
    "        for value in values:\n",
    "            df['%s_%s' % (name, value)] = (df[name] == value).astype(int)\n",
    "            features.append('%s_%s' % (name, value))\n",
    "\n",
    "    df_num = df[features]\n",
    "    df_num = df_num.fillna(0)\n",
    "    X = df_num.values\n",
    "\n",
    "    return X"
   ]
  },
  {
   "cell_type": "code",
   "execution_count": 76,
   "metadata": {},
   "outputs": [
    {
     "data": {
      "text/plain": [
       "266.5994263627081"
      ]
     },
     "execution_count": 76,
     "metadata": {},
     "output_type": "execute_result"
    }
   ],
   "source": [
    "X_train = prepare_X(df_train)\n",
    "w0, w = train_linear_regression(X_train, y_train)\n",
    "\n",
    "X_val = prepare_X(df_val)\n",
    "y_pred = w0 + X_val.dot(w)\n",
    "rmse(y_val, y_pred)"
   ]
  },
  {
   "cell_type": "code",
   "execution_count": 77,
   "metadata": {},
   "outputs": [
    {
     "data": {
      "text/plain": [
       "(3066759258862621.0,\n",
       " array([-7.90863204e-01,  1.80621909e+02,  1.97903973e+01,  1.46968041e+01,\n",
       "        -3.39713455e-04,  7.74924546e+00,  9.76297867e+03,  9.83480038e+03,\n",
       "         9.77003629e+03, -2.36936868e+01, -6.98582110e+00,  7.93435108e+01,\n",
       "        -7.33167695e+01, -6.60897799e+00, -1.00310530e+01,  7.79383982e+01,\n",
       "        -4.19367134e+01, -6.14213575e+01,  2.12412304e+02,  1.02166851e+03,\n",
       "         9.08719092e+02,  9.84633740e+02,  1.06771237e+03,  7.00547494e+02,\n",
       "        -3.06675926e+15, -3.06675926e+15, -3.06675926e+15, -3.06675926e+15,\n",
       "         2.52356626e+00,  3.40712703e+00, -1.27416249e+01,  1.22844560e+01,\n",
       "        -1.51620939e+01,  3.09315910e+02,  2.88692636e+02,  2.78158171e+02,\n",
       "        -1.44115660e-01, -2.62579827e-02,  1.75913981e-01,  3.65037816e-01,\n",
       "        -2.90235596e-01]))"
      ]
     },
     "execution_count": 77,
     "metadata": {},
     "output_type": "execute_result"
    }
   ],
   "source": [
    "w0, w"
   ]
  },
  {
   "cell_type": "markdown",
   "metadata": {},
   "source": [
    "## 2.13 Regularization"
   ]
  },
  {
   "cell_type": "code",
   "execution_count": 78,
   "metadata": {},
   "outputs": [
    {
     "data": {
      "text/plain": [
       "array([[4.        , 4.        , 4.        ],\n",
       "       [3.        , 5.        , 5.        ],\n",
       "       [5.        , 1.        , 1.        ],\n",
       "       [5.        , 4.        , 4.        ],\n",
       "       [7.        , 5.        , 5.        ],\n",
       "       [4.        , 5.        , 5.00000001]])"
      ]
     },
     "execution_count": 78,
     "metadata": {},
     "output_type": "execute_result"
    }
   ],
   "source": [
    "X = [\n",
    "    [4, 4, 4],\n",
    "    [3, 5, 5],\n",
    "    [5, 1, 1],\n",
    "    [5, 4, 4],\n",
    "    [7, 5, 5],\n",
    "    [4, 5, 5.00000001],\n",
    "]\n",
    "\n",
    "X = np.array(X)\n",
    "X"
   ]
  },
  {
   "cell_type": "code",
   "execution_count": 79,
   "metadata": {},
   "outputs": [],
   "source": [
    "y= [1, 2, 3, 1, 2, 3]"
   ]
  },
  {
   "cell_type": "code",
   "execution_count": 80,
   "metadata": {},
   "outputs": [
    {
     "data": {
      "text/plain": [
       "array([[140.        , 111.        , 111.00000004],\n",
       "       [111.        , 108.        , 108.00000005],\n",
       "       [111.00000004, 108.00000005, 108.0000001 ]])"
      ]
     },
     "execution_count": 80,
     "metadata": {},
     "output_type": "execute_result"
    }
   ],
   "source": [
    "XTX = X.T.dot(X)\n",
    "XTX"
   ]
  },
  {
   "cell_type": "code",
   "execution_count": 81,
   "metadata": {},
   "outputs": [],
   "source": [
    "XTX_inv = np.linalg.inv(XTX)"
   ]
  },
  {
   "cell_type": "code",
   "execution_count": 82,
   "metadata": {},
   "outputs": [
    {
     "data": {
      "text/plain": [
       "array([[ 3.85321698e-02,  1.20696663e+05, -1.20696696e+05],\n",
       "       [ 1.20696640e+05, -2.74658839e+14,  2.74658839e+14],\n",
       "       [-1.20696680e+05,  2.74658839e+14, -2.74658839e+14]])"
      ]
     },
     "execution_count": 82,
     "metadata": {},
     "output_type": "execute_result"
    }
   ],
   "source": [
    "XTX_inv"
   ]
  },
  {
   "cell_type": "code",
   "execution_count": 83,
   "metadata": {},
   "outputs": [
    {
     "data": {
      "text/plain": [
       "array([ 6.24269892e-01,  3.44329390e+06, -3.44329299e+06])"
      ]
     },
     "execution_count": 83,
     "metadata": {},
     "output_type": "execute_result"
    }
   ],
   "source": [
    "XTX_inv.dot(X.T).dot(y)"
   ]
  },
  {
   "cell_type": "code",
   "execution_count": 84,
   "metadata": {},
   "outputs": [],
   "source": [
    "XTX = [\n",
    "    [1, 2, 2],\n",
    "    [2, 1, 1.0000001],\n",
    "    [2, 1.0000001, 1]\n",
    "]\n",
    "\n",
    "XTX = np.array(XTX)"
   ]
  },
  {
   "cell_type": "code",
   "execution_count": 85,
   "metadata": {},
   "outputs": [
    {
     "data": {
      "text/plain": [
       "array([[-3.33333356e-01,  3.33333339e-01,  3.33333339e-01],\n",
       "       [ 3.33333339e-01, -5.00000008e+06,  4.99999991e+06],\n",
       "       [ 3.33333339e-01,  4.99999991e+06, -5.00000008e+06]])"
      ]
     },
     "execution_count": 85,
     "metadata": {},
     "output_type": "execute_result"
    }
   ],
   "source": [
    "np.linalg.inv(XTX)"
   ]
  },
  {
   "cell_type": "code",
   "execution_count": 86,
   "metadata": {},
   "outputs": [],
   "source": [
    "XTX = XTX + 0.01 * np.eye(3)"
   ]
  },
  {
   "cell_type": "code",
   "execution_count": 87,
   "metadata": {},
   "outputs": [
    {
     "data": {
      "text/plain": [
       "array([[ -0.33668908,   0.33501399,   0.33501399],\n",
       "       [  0.33501399,  49.91590897, -50.08509104],\n",
       "       [  0.33501399, -50.08509104,  49.91590897]])"
      ]
     },
     "execution_count": 87,
     "metadata": {},
     "output_type": "execute_result"
    }
   ],
   "source": [
    "np.linalg.inv(XTX)"
   ]
  },
  {
   "cell_type": "code",
   "execution_count": 88,
   "metadata": {},
   "outputs": [],
   "source": [
    "def train_linear_regression_reg(X, y, r=0.001):\n",
    "    ones = np.ones(X.shape[0])\n",
    "    X = np.column_stack([ones, X])\n",
    "\n",
    "    XTX = X.T.dot(X)\n",
    "    XTX = XTX + r * np.eye(XTX.shape[0])\n",
    "\n",
    "    XTX_inv = np.linalg.inv(XTX)\n",
    "    w_full = XTX_inv.dot(X.T).dot(y)\n",
    "    \n",
    "    return w_full[0], w_full[1:]"
   ]
  },
  {
   "cell_type": "code",
   "execution_count": 89,
   "metadata": {},
   "outputs": [
    {
     "data": {
      "text/plain": [
       "0.4608208286209523"
      ]
     },
     "execution_count": 89,
     "metadata": {},
     "output_type": "execute_result"
    }
   ],
   "source": [
    "X_train = prepare_X(df_train)\n",
    "w0, w = train_linear_regression_reg(X_train, y_train, r=0.01)\n",
    "\n",
    "X_val = prepare_X(df_val)\n",
    "y_pred = w0 + X_val.dot(w)\n",
    "rmse(y_val, y_pred)"
   ]
  },
  {
   "cell_type": "markdown",
   "metadata": {},
   "source": [
    "## 2.14 Tuning the model"
   ]
  },
  {
   "cell_type": "code",
   "execution_count": 90,
   "metadata": {},
   "outputs": [
    {
     "name": "stdout",
     "output_type": "stream",
     "text": [
      "0.0 3066759258862621.0 266.5994263627081\n",
      "1e-05 6.6398149018651305 0.46081532123609276\n",
      "0.0001 7.12965014007955 0.4608153659783837\n",
      "0.001 7.13085491393288 0.46081585838957173\n",
      "0.1 7.0002324128629025 0.4608736549134577\n",
      "1 6.250747846974607 0.46158128382779856\n",
      "10 4.7295125856710305 0.472609877266903\n"
     ]
    }
   ],
   "source": [
    "for r in [0.0, 0.00001, 0.0001, 0.001, 0.1, 1, 10]:\n",
    "    X_train = prepare_X(df_train)\n",
    "    w0, w = train_linear_regression_reg(X_train, y_train, r=r)\n",
    "\n",
    "    X_val = prepare_X(df_val)\n",
    "    y_pred = w0 + X_val.dot(w)\n",
    "    score = rmse(y_val, y_pred)\n",
    "    \n",
    "    print(r, w0, score)"
   ]
  },
  {
   "cell_type": "code",
   "execution_count": 91,
   "metadata": {},
   "outputs": [
    {
     "data": {
      "text/plain": [
       "0.46081585838957173"
      ]
     },
     "execution_count": 91,
     "metadata": {},
     "output_type": "execute_result"
    }
   ],
   "source": [
    "r = 0.001\n",
    "X_train = prepare_X(df_train)\n",
    "w0, w = train_linear_regression_reg(X_train, y_train, r=r)\n",
    "\n",
    "X_val = prepare_X(df_val)\n",
    "y_pred = w0 + X_val.dot(w)\n",
    "score = rmse(y_val, y_pred)\n",
    "score"
   ]
  },
  {
   "cell_type": "markdown",
   "metadata": {},
   "source": [
    "## 2.15 Using the model"
   ]
  },
  {
   "cell_type": "code",
   "execution_count": 92,
   "metadata": {},
   "outputs": [],
   "source": [
    "df_full_train = pd.concat([df_train, df_val])"
   ]
  },
  {
   "cell_type": "code",
   "execution_count": 93,
   "metadata": {},
   "outputs": [],
   "source": [
    "df_full_train = df_full_train.reset_index(drop=True)"
   ]
  },
  {
   "cell_type": "code",
   "execution_count": 94,
   "metadata": {},
   "outputs": [],
   "source": [
    "X_full_train = prepare_X(df_full_train)"
   ]
  },
  {
   "cell_type": "code",
   "execution_count": 95,
   "metadata": {},
   "outputs": [
    {
     "data": {
      "text/plain": [
       "array([[148.,   4.,  33., ...,   1.,   0.,   0.],\n",
       "       [132.,   4.,  32., ...,   0.,   0.,   1.],\n",
       "       [148.,   4.,  37., ...,   0.,   0.,   1.],\n",
       "       ...,\n",
       "       [332.,   8.,  23., ...,   0.,   0.,   0.],\n",
       "       [148.,   4.,  34., ...,   0.,   0.,   0.],\n",
       "       [290.,   6.,  25., ...,   0.,   0.,   0.]])"
      ]
     },
     "execution_count": 95,
     "metadata": {},
     "output_type": "execute_result"
    }
   ],
   "source": [
    "X_full_train"
   ]
  },
  {
   "cell_type": "code",
   "execution_count": 96,
   "metadata": {},
   "outputs": [],
   "source": [
    "y_full_train = np.concatenate([y_train, y_val])"
   ]
  },
  {
   "cell_type": "code",
   "execution_count": 97,
   "metadata": {},
   "outputs": [],
   "source": [
    "w0, w = train_linear_regression_reg(X_full_train, y_full_train, r=0.001)"
   ]
  },
  {
   "cell_type": "code",
   "execution_count": 98,
   "metadata": {},
   "outputs": [
    {
     "data": {
      "text/plain": [
       "0.4600753970266562"
      ]
     },
     "execution_count": 98,
     "metadata": {},
     "output_type": "execute_result"
    }
   ],
   "source": [
    "X_test = prepare_X(df_test)\n",
    "y_pred = w0 + X_test.dot(w)\n",
    "score = rmse(y_test, y_pred)\n",
    "score"
   ]
  },
  {
   "cell_type": "code",
   "execution_count": 99,
   "metadata": {},
   "outputs": [
    {
     "data": {
      "text/plain": [
       "{'make': 'toyota',\n",
       " 'model': 'sienna',\n",
       " 'year': 2015,\n",
       " 'engine_fuel_type': 'regular_unleaded',\n",
       " 'engine_hp': 266.0,\n",
       " 'engine_cylinders': 6.0,\n",
       " 'transmission_type': 'automatic',\n",
       " 'driven_wheels': 'front_wheel_drive',\n",
       " 'number_of_doors': 4.0,\n",
       " 'market_category': nan,\n",
       " 'vehicle_size': 'large',\n",
       " 'vehicle_style': 'passenger_minivan',\n",
       " 'highway_mpg': 25,\n",
       " 'city_mpg': 18,\n",
       " 'popularity': 2031}"
      ]
     },
     "execution_count": 99,
     "metadata": {},
     "output_type": "execute_result"
    }
   ],
   "source": [
    "car = df_test.iloc[20].to_dict()\n",
    "car"
   ]
  },
  {
   "cell_type": "code",
   "execution_count": 100,
   "metadata": {},
   "outputs": [
    {
     "data": {
      "text/html": [
       "<div>\n",
       "<style scoped>\n",
       "    .dataframe tbody tr th:only-of-type {\n",
       "        vertical-align: middle;\n",
       "    }\n",
       "\n",
       "    .dataframe tbody tr th {\n",
       "        vertical-align: top;\n",
       "    }\n",
       "\n",
       "    .dataframe thead th {\n",
       "        text-align: right;\n",
       "    }\n",
       "</style>\n",
       "<table border=\"1\" class=\"dataframe\">\n",
       "  <thead>\n",
       "    <tr style=\"text-align: right;\">\n",
       "      <th></th>\n",
       "      <th>make</th>\n",
       "      <th>model</th>\n",
       "      <th>year</th>\n",
       "      <th>engine_fuel_type</th>\n",
       "      <th>engine_hp</th>\n",
       "      <th>engine_cylinders</th>\n",
       "      <th>transmission_type</th>\n",
       "      <th>driven_wheels</th>\n",
       "      <th>number_of_doors</th>\n",
       "      <th>market_category</th>\n",
       "      <th>vehicle_size</th>\n",
       "      <th>vehicle_style</th>\n",
       "      <th>highway_mpg</th>\n",
       "      <th>city_mpg</th>\n",
       "      <th>popularity</th>\n",
       "    </tr>\n",
       "  </thead>\n",
       "  <tbody>\n",
       "    <tr>\n",
       "      <th>0</th>\n",
       "      <td>toyota</td>\n",
       "      <td>sienna</td>\n",
       "      <td>2015</td>\n",
       "      <td>regular_unleaded</td>\n",
       "      <td>266.0</td>\n",
       "      <td>6.0</td>\n",
       "      <td>automatic</td>\n",
       "      <td>front_wheel_drive</td>\n",
       "      <td>4.0</td>\n",
       "      <td>NaN</td>\n",
       "      <td>large</td>\n",
       "      <td>passenger_minivan</td>\n",
       "      <td>25</td>\n",
       "      <td>18</td>\n",
       "      <td>2031</td>\n",
       "    </tr>\n",
       "  </tbody>\n",
       "</table>\n",
       "</div>"
      ],
      "text/plain": [
       "     make   model  year  engine_fuel_type  engine_hp  engine_cylinders  \\\n",
       "0  toyota  sienna  2015  regular_unleaded      266.0               6.0   \n",
       "\n",
       "  transmission_type      driven_wheels  number_of_doors  market_category  \\\n",
       "0         automatic  front_wheel_drive              4.0              NaN   \n",
       "\n",
       "  vehicle_size      vehicle_style  highway_mpg  city_mpg  popularity  \n",
       "0        large  passenger_minivan           25        18        2031  "
      ]
     },
     "execution_count": 100,
     "metadata": {},
     "output_type": "execute_result"
    }
   ],
   "source": [
    "df_small = pd.DataFrame([car])\n",
    "df_small"
   ]
  },
  {
   "cell_type": "code",
   "execution_count": 101,
   "metadata": {},
   "outputs": [],
   "source": [
    "X_small = prepare_X(df_small)"
   ]
  },
  {
   "cell_type": "code",
   "execution_count": 102,
   "metadata": {},
   "outputs": [
    {
     "data": {
      "text/plain": [
       "10.63249250912739"
      ]
     },
     "execution_count": 102,
     "metadata": {},
     "output_type": "execute_result"
    }
   ],
   "source": [
    "y_pred = w0 + X_small.dot(w)\n",
    "y_pred = y_pred[0]\n",
    "y_pred"
   ]
  },
  {
   "cell_type": "code",
   "execution_count": 103,
   "metadata": {},
   "outputs": [
    {
     "data": {
      "text/plain": [
       "41459.336786653585"
      ]
     },
     "execution_count": 103,
     "metadata": {},
     "output_type": "execute_result"
    }
   ],
   "source": [
    "np.expm1(y_pred)"
   ]
  },
  {
   "cell_type": "code",
   "execution_count": 104,
   "metadata": {},
   "outputs": [
    {
     "data": {
      "text/plain": [
       "35000.00000000001"
      ]
     },
     "execution_count": 104,
     "metadata": {},
     "output_type": "execute_result"
    }
   ],
   "source": [
    "np.expm1(y_test[20])"
   ]
  },
  {
   "cell_type": "markdown",
   "metadata": {},
   "source": [
    "## 2.16 Next steps"
   ]
  },
  {
   "cell_type": "markdown",
   "metadata": {},
   "source": [
    "* We included only 5 top features. What happens if we include 10?\n",
    "\n",
    "Other projects\n",
    "\n",
    "* Predict the price of a house - e.g. boston dataset\n",
    "* https://archive.ics.uci.edu/ml/datasets.php?task=reg\n",
    "* https://archive.ics.uci.edu/ml/datasets/Student+Performance"
   ]
  },
  {
   "cell_type": "markdown",
   "metadata": {},
   "source": [
    "## 2.17 Summary\n",
    "\n",
    "* EDA - looking at data, finding missing values\n",
    "* Target variable distribution - long tail => bell shaped curve\n",
    "* Validation framework: train/val/test split (helped us detect problems)\n",
    "* Normal equation - not magic, but math\n",
    "* Implemented it with numpy\n",
    "* RMSE to validate our model\n",
    "* Feature engineering: age, categorical features\n",
    "* Regularization to fight numerical instability"
   ]
  }
 ],
 "metadata": {
  "kernelspec": {
   "display_name": "Python 3",
   "language": "python",
   "name": "python3"
  },
  "language_info": {
   "codemirror_mode": {
    "name": "ipython",
    "version": 3
   },
   "file_extension": ".py",
   "mimetype": "text/x-python",
   "name": "python",
   "nbconvert_exporter": "python",
   "pygments_lexer": "ipython3",
   "version": "3.11.3"
  }
 },
 "nbformat": 4,
 "nbformat_minor": 5
}
