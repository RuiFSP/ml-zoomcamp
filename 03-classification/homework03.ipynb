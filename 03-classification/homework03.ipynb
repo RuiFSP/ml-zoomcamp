{
 "cells": [
  {
   "cell_type": "markdown",
   "metadata": {},
   "source": [
    "# Homework3 - datatalks.club - Rui Pinto"
   ]
  },
  {
   "cell_type": "code",
   "execution_count": 1,
   "metadata": {},
   "outputs": [],
   "source": [
    "import pandas as pd\n",
    "import numpy as np\n",
    "import matplotlib.pyplot as plt\n",
    "import seaborn as sns"
   ]
  },
  {
   "cell_type": "code",
   "execution_count": 2,
   "metadata": {},
   "outputs": [],
   "source": [
    "# getting the data\n",
    "#!curl -O https://archive.ics.uci.edu/static/public/222/bank+marketing.zip\n",
    "#!unzip bank+marketing.zip\n",
    "#!unzip bank.zip"
   ]
  },
  {
   "cell_type": "code",
   "execution_count": 3,
   "metadata": {},
   "outputs": [],
   "source": [
    "#loading the data\n",
    "df = pd.read_csv('bank-full.csv', sep=';')"
   ]
  },
  {
   "cell_type": "code",
   "execution_count": 4,
   "metadata": {},
   "outputs": [
    {
     "data": {
      "text/html": [
       "<div>\n",
       "<style scoped>\n",
       "    .dataframe tbody tr th:only-of-type {\n",
       "        vertical-align: middle;\n",
       "    }\n",
       "\n",
       "    .dataframe tbody tr th {\n",
       "        vertical-align: top;\n",
       "    }\n",
       "\n",
       "    .dataframe thead th {\n",
       "        text-align: right;\n",
       "    }\n",
       "</style>\n",
       "<table border=\"1\" class=\"dataframe\">\n",
       "  <thead>\n",
       "    <tr style=\"text-align: right;\">\n",
       "      <th></th>\n",
       "      <th>age</th>\n",
       "      <th>job</th>\n",
       "      <th>marital</th>\n",
       "      <th>education</th>\n",
       "      <th>default</th>\n",
       "      <th>balance</th>\n",
       "      <th>housing</th>\n",
       "      <th>loan</th>\n",
       "      <th>contact</th>\n",
       "      <th>day</th>\n",
       "      <th>month</th>\n",
       "      <th>duration</th>\n",
       "      <th>campaign</th>\n",
       "      <th>pdays</th>\n",
       "      <th>previous</th>\n",
       "      <th>poutcome</th>\n",
       "      <th>y</th>\n",
       "    </tr>\n",
       "  </thead>\n",
       "  <tbody>\n",
       "    <tr>\n",
       "      <th>0</th>\n",
       "      <td>58</td>\n",
       "      <td>management</td>\n",
       "      <td>married</td>\n",
       "      <td>tertiary</td>\n",
       "      <td>no</td>\n",
       "      <td>2143</td>\n",
       "      <td>yes</td>\n",
       "      <td>no</td>\n",
       "      <td>unknown</td>\n",
       "      <td>5</td>\n",
       "      <td>may</td>\n",
       "      <td>261</td>\n",
       "      <td>1</td>\n",
       "      <td>-1</td>\n",
       "      <td>0</td>\n",
       "      <td>unknown</td>\n",
       "      <td>no</td>\n",
       "    </tr>\n",
       "    <tr>\n",
       "      <th>1</th>\n",
       "      <td>44</td>\n",
       "      <td>technician</td>\n",
       "      <td>single</td>\n",
       "      <td>secondary</td>\n",
       "      <td>no</td>\n",
       "      <td>29</td>\n",
       "      <td>yes</td>\n",
       "      <td>no</td>\n",
       "      <td>unknown</td>\n",
       "      <td>5</td>\n",
       "      <td>may</td>\n",
       "      <td>151</td>\n",
       "      <td>1</td>\n",
       "      <td>-1</td>\n",
       "      <td>0</td>\n",
       "      <td>unknown</td>\n",
       "      <td>no</td>\n",
       "    </tr>\n",
       "    <tr>\n",
       "      <th>2</th>\n",
       "      <td>33</td>\n",
       "      <td>entrepreneur</td>\n",
       "      <td>married</td>\n",
       "      <td>secondary</td>\n",
       "      <td>no</td>\n",
       "      <td>2</td>\n",
       "      <td>yes</td>\n",
       "      <td>yes</td>\n",
       "      <td>unknown</td>\n",
       "      <td>5</td>\n",
       "      <td>may</td>\n",
       "      <td>76</td>\n",
       "      <td>1</td>\n",
       "      <td>-1</td>\n",
       "      <td>0</td>\n",
       "      <td>unknown</td>\n",
       "      <td>no</td>\n",
       "    </tr>\n",
       "    <tr>\n",
       "      <th>3</th>\n",
       "      <td>47</td>\n",
       "      <td>blue-collar</td>\n",
       "      <td>married</td>\n",
       "      <td>unknown</td>\n",
       "      <td>no</td>\n",
       "      <td>1506</td>\n",
       "      <td>yes</td>\n",
       "      <td>no</td>\n",
       "      <td>unknown</td>\n",
       "      <td>5</td>\n",
       "      <td>may</td>\n",
       "      <td>92</td>\n",
       "      <td>1</td>\n",
       "      <td>-1</td>\n",
       "      <td>0</td>\n",
       "      <td>unknown</td>\n",
       "      <td>no</td>\n",
       "    </tr>\n",
       "    <tr>\n",
       "      <th>4</th>\n",
       "      <td>33</td>\n",
       "      <td>unknown</td>\n",
       "      <td>single</td>\n",
       "      <td>unknown</td>\n",
       "      <td>no</td>\n",
       "      <td>1</td>\n",
       "      <td>no</td>\n",
       "      <td>no</td>\n",
       "      <td>unknown</td>\n",
       "      <td>5</td>\n",
       "      <td>may</td>\n",
       "      <td>198</td>\n",
       "      <td>1</td>\n",
       "      <td>-1</td>\n",
       "      <td>0</td>\n",
       "      <td>unknown</td>\n",
       "      <td>no</td>\n",
       "    </tr>\n",
       "  </tbody>\n",
       "</table>\n",
       "</div>"
      ],
      "text/plain": [
       "   age           job  marital  education default  balance housing loan  \\\n",
       "0   58    management  married   tertiary      no     2143     yes   no   \n",
       "1   44    technician   single  secondary      no       29     yes   no   \n",
       "2   33  entrepreneur  married  secondary      no        2     yes  yes   \n",
       "3   47   blue-collar  married    unknown      no     1506     yes   no   \n",
       "4   33       unknown   single    unknown      no        1      no   no   \n",
       "\n",
       "   contact  day month  duration  campaign  pdays  previous poutcome   y  \n",
       "0  unknown    5   may       261         1     -1         0  unknown  no  \n",
       "1  unknown    5   may       151         1     -1         0  unknown  no  \n",
       "2  unknown    5   may        76         1     -1         0  unknown  no  \n",
       "3  unknown    5   may        92         1     -1         0  unknown  no  \n",
       "4  unknown    5   may       198         1     -1         0  unknown  no  "
      ]
     },
     "execution_count": 4,
     "metadata": {},
     "output_type": "execute_result"
    }
   ],
   "source": [
    "df.head()"
   ]
  },
  {
   "cell_type": "markdown",
   "metadata": {},
   "source": [
    "### Data Preparation"
   ]
  },
  {
   "cell_type": "markdown",
   "metadata": {},
   "source": [
    "Features\n",
    "For the rest of the homework, you'll need to use only these columns:\n",
    "\n",
    "age,\n",
    "job,\n",
    "marital,\n",
    "education,\n",
    "balance,\n",
    "housing,\n",
    "contact,\n",
    "day,\n",
    "month,\n",
    "duration,\n",
    "campaign,\n",
    "pdays,\n",
    "previous,\n",
    "poutcome,\n",
    "y"
   ]
  },
  {
   "cell_type": "code",
   "execution_count": 5,
   "metadata": {},
   "outputs": [],
   "source": [
    "# features and target\n",
    "X = df.drop(columns=[\"default\",\"loan\",\"y\"])\n",
    "y = df[\"y\"] #target"
   ]
  },
  {
   "cell_type": "code",
   "execution_count": 6,
   "metadata": {},
   "outputs": [
    {
     "data": {
      "text/plain": [
       "age          0\n",
       "job          0\n",
       "marital      0\n",
       "education    0\n",
       "balance      0\n",
       "housing      0\n",
       "contact      0\n",
       "day          0\n",
       "month        0\n",
       "duration     0\n",
       "campaign     0\n",
       "pdays        0\n",
       "previous     0\n",
       "poutcome     0\n",
       "dtype: int64"
      ]
     },
     "execution_count": 6,
     "metadata": {},
     "output_type": "execute_result"
    }
   ],
   "source": [
    "# checking for missing values\n",
    "X.isnull().sum() #no missing values"
   ]
  },
  {
   "cell_type": "markdown",
   "metadata": {},
   "source": [
    "## Question 1\n",
    "\n",
    "What is the most frequent observation (mode) for the column education?\n",
    "\n",
    "- unknown\n",
    "- primary\n",
    "- secondary\n",
    "- tertiary"
   ]
  },
  {
   "cell_type": "code",
   "execution_count": 7,
   "metadata": {},
   "outputs": [
    {
     "name": "stdout",
     "output_type": "stream",
     "text": [
      "The most frequent observation (mode) for column education is: secondary\n"
     ]
    }
   ],
   "source": [
    "print(f\"The most frequent observation (mode) for column education is: {X['education'].mode()[0]}\")"
   ]
  },
  {
   "cell_type": "markdown",
   "metadata": {},
   "source": [
    "## Question 2\n",
    "Create the correlation matrix for the numerical features of your dataset. In a correlation matrix, you compute the correlation coefficient between every pair of features.\n",
    "\n",
    "What are the two features that have the biggest correlation?\n",
    "\n",
    "- age and balance\n",
    "- day and campaign\n",
    "- day and pdays\n",
    "- pdays and previous"
   ]
  },
  {
   "cell_type": "code",
   "execution_count": 8,
   "metadata": {},
   "outputs": [
    {
     "data": {
      "image/png": "[encoded data removed]",
      "text/plain": [
       "<Figure size 640x480 with 2 Axes>"
      ]
     },
     "metadata": {},
     "output_type": "display_data"
    }
   ],
   "source": [
    "X_num = X.select_dtypes(include=[np.number])\n",
    "X_cat = X.select_dtypes(include=[object])\n",
    "\n",
    "# check for for the two highest correlated features\n",
    "corr = X_num.corr()\n",
    "# heatmap with only half of the values\n",
    "mask = np.zeros_like(corr)\n",
    "mask[np.triu_indices_from(mask)] = True\n",
    "sns.heatmap(corr, mask=mask, annot=True, cmap='coolwarm')\n",
    "plt.show()"
   ]
  },
  {
   "cell_type": "code",
   "execution_count": 9,
   "metadata": {},
   "outputs": [
    {
     "data": {
      "text/html": [
       "<style type=\"text/css\">\n",
       "#T_2bde9_row0_col0 {\n",
       "  background-color: #b40426;\n",
       "  color: #f1f1f1;\n",
       "}\n",
       "#T_2bde9_row1_col0 {\n",
       "  background-color: #b2ccfb;\n",
       "  color: #000000;\n",
       "}\n",
       "#T_2bde9_row2_col0 {\n",
       "  background-color: #80a3fa;\n",
       "  color: #f1f1f1;\n",
       "}\n",
       "#T_2bde9_row3_col0 {\n",
       "  background-color: #7b9ff9;\n",
       "  color: #f1f1f1;\n",
       "}\n",
       "#T_2bde9_row4_col0 {\n",
       "  background-color: #799cf8;\n",
       "  color: #f1f1f1;\n",
       "}\n",
       "#T_2bde9_row5_col0 {\n",
       "  background-color: #7699f6;\n",
       "  color: #f1f1f1;\n",
       "}\n",
       "#T_2bde9_row6_col0 {\n",
       "  background-color: #5d7ce6;\n",
       "  color: #f1f1f1;\n",
       "}\n",
       "#T_2bde9_row7_col0 {\n",
       "  background-color: #4f69d9;\n",
       "  color: #f1f1f1;\n",
       "}\n",
       "#T_2bde9_row8_col0 {\n",
       "  background-color: #4e68d8;\n",
       "  color: #f1f1f1;\n",
       "}\n",
       "#T_2bde9_row9_col0 {\n",
       "  background-color: #4961d2;\n",
       "  color: #f1f1f1;\n",
       "}\n",
       "#T_2bde9_row10_col0 {\n",
       "  background-color: #485fd1;\n",
       "  color: #f1f1f1;\n",
       "}\n",
       "#T_2bde9_row11_col0 {\n",
       "  background-color: #445acc;\n",
       "  color: #f1f1f1;\n",
       "}\n",
       "#T_2bde9_row12_col0 {\n",
       "  background-color: #4358cb;\n",
       "  color: #f1f1f1;\n",
       "}\n",
       "#T_2bde9_row13_col0 {\n",
       "  background-color: #3f53c6;\n",
       "  color: #f1f1f1;\n",
       "}\n",
       "#T_2bde9_row14_col0 {\n",
       "  background-color: #3d50c3;\n",
       "  color: #f1f1f1;\n",
       "}\n",
       "#T_2bde9_row15_col0, #T_2bde9_row16_col0, #T_2bde9_row17_col0 {\n",
       "  background-color: #3c4ec2;\n",
       "  color: #f1f1f1;\n",
       "}\n",
       "#T_2bde9_row18_col0, #T_2bde9_row19_col0, #T_2bde9_row20_col0 {\n",
       "  background-color: #3b4cc0;\n",
       "  color: #f1f1f1;\n",
       "}\n",
       "</style>\n",
       "<table id=\"T_2bde9\">\n",
       "  <thead>\n",
       "    <tr>\n",
       "      <th class=\"blank\" >&nbsp;</th>\n",
       "      <th class=\"blank level0\" >&nbsp;</th>\n",
       "      <th id=\"T_2bde9_level0_col0\" class=\"col_heading level0 col0\" >correlation</th>\n",
       "    </tr>\n",
       "  </thead>\n",
       "  <tbody>\n",
       "    <tr>\n",
       "      <th id=\"T_2bde9_level0_row0\" class=\"row_heading level0 row0\" >previous</th>\n",
       "      <th id=\"T_2bde9_level1_row0\" class=\"row_heading level1 row0\" >pdays</th>\n",
       "      <td id=\"T_2bde9_row0_col0\" class=\"data row0 col0\" >0.454820</td>\n",
       "    </tr>\n",
       "    <tr>\n",
       "      <th id=\"T_2bde9_level0_row1\" class=\"row_heading level0 row1\" >day</th>\n",
       "      <th id=\"T_2bde9_level1_row1\" class=\"row_heading level1 row1\" >campaign</th>\n",
       "      <td id=\"T_2bde9_row1_col0\" class=\"data row1 col0\" >0.162490</td>\n",
       "    </tr>\n",
       "    <tr>\n",
       "      <th id=\"T_2bde9_level0_row2\" class=\"row_heading level0 row2\" >balance</th>\n",
       "      <th id=\"T_2bde9_level1_row2\" class=\"row_heading level1 row2\" >age</th>\n",
       "      <td id=\"T_2bde9_row2_col0\" class=\"data row2 col0\" >0.097783</td>\n",
       "    </tr>\n",
       "    <tr>\n",
       "      <th id=\"T_2bde9_level0_row3\" class=\"row_heading level0 row3\" rowspan=\"2\">pdays</th>\n",
       "      <th id=\"T_2bde9_level1_row3\" class=\"row_heading level1 row3\" >day</th>\n",
       "      <td id=\"T_2bde9_row3_col0\" class=\"data row3 col0\" >0.093044</td>\n",
       "    </tr>\n",
       "    <tr>\n",
       "      <th id=\"T_2bde9_level1_row4\" class=\"row_heading level1 row4\" >campaign</th>\n",
       "      <td id=\"T_2bde9_row4_col0\" class=\"data row4 col0\" >0.088628</td>\n",
       "    </tr>\n",
       "    <tr>\n",
       "      <th id=\"T_2bde9_level0_row5\" class=\"row_heading level0 row5\" >campaign</th>\n",
       "      <th id=\"T_2bde9_level1_row5\" class=\"row_heading level1 row5\" >duration</th>\n",
       "      <td id=\"T_2bde9_row5_col0\" class=\"data row5 col0\" >0.084570</td>\n",
       "    </tr>\n",
       "    <tr>\n",
       "      <th id=\"T_2bde9_level0_row6\" class=\"row_heading level0 row6\" rowspan=\"2\">previous</th>\n",
       "      <th id=\"T_2bde9_level1_row6\" class=\"row_heading level1 row6\" >day</th>\n",
       "      <td id=\"T_2bde9_row6_col0\" class=\"data row6 col0\" >0.051710</td>\n",
       "    </tr>\n",
       "    <tr>\n",
       "      <th id=\"T_2bde9_level1_row7\" class=\"row_heading level1 row7\" >campaign</th>\n",
       "      <td id=\"T_2bde9_row7_col0\" class=\"data row7 col0\" >0.032855</td>\n",
       "    </tr>\n",
       "    <tr>\n",
       "      <th id=\"T_2bde9_level0_row8\" class=\"row_heading level0 row8\" >day</th>\n",
       "      <th id=\"T_2bde9_level1_row8\" class=\"row_heading level1 row8\" >duration</th>\n",
       "      <td id=\"T_2bde9_row8_col0\" class=\"data row8 col0\" >0.030206</td>\n",
       "    </tr>\n",
       "    <tr>\n",
       "      <th id=\"T_2bde9_level0_row9\" class=\"row_heading level0 row9\" >age</th>\n",
       "      <th id=\"T_2bde9_level1_row9\" class=\"row_heading level1 row9\" >pdays</th>\n",
       "      <td id=\"T_2bde9_row9_col0\" class=\"data row9 col0\" >0.023758</td>\n",
       "    </tr>\n",
       "    <tr>\n",
       "      <th id=\"T_2bde9_level0_row10\" class=\"row_heading level0 row10\" >duration</th>\n",
       "      <th id=\"T_2bde9_level1_row10\" class=\"row_heading level1 row10\" >balance</th>\n",
       "      <td id=\"T_2bde9_row10_col0\" class=\"data row10 col0\" >0.021560</td>\n",
       "    </tr>\n",
       "    <tr>\n",
       "      <th id=\"T_2bde9_level0_row11\" class=\"row_heading level0 row11\" >previous</th>\n",
       "      <th id=\"T_2bde9_level1_row11\" class=\"row_heading level1 row11\" >balance</th>\n",
       "      <td id=\"T_2bde9_row11_col0\" class=\"data row11 col0\" >0.016674</td>\n",
       "    </tr>\n",
       "    <tr>\n",
       "      <th id=\"T_2bde9_level0_row12\" class=\"row_heading level0 row12\" >balance</th>\n",
       "      <th id=\"T_2bde9_level1_row12\" class=\"row_heading level1 row12\" >campaign</th>\n",
       "      <td id=\"T_2bde9_row12_col0\" class=\"data row12 col0\" >0.014578</td>\n",
       "    </tr>\n",
       "    <tr>\n",
       "      <th id=\"T_2bde9_level0_row13\" class=\"row_heading level0 row13\" >day</th>\n",
       "      <th id=\"T_2bde9_level1_row13\" class=\"row_heading level1 row13\" >age</th>\n",
       "      <td id=\"T_2bde9_row13_col0\" class=\"data row13 col0\" >0.009120</td>\n",
       "    </tr>\n",
       "    <tr>\n",
       "      <th id=\"T_2bde9_level0_row14\" class=\"row_heading level0 row14\" >age</th>\n",
       "      <th id=\"T_2bde9_level1_row14\" class=\"row_heading level1 row14\" >campaign</th>\n",
       "      <td id=\"T_2bde9_row14_col0\" class=\"data row14 col0\" >0.004760</td>\n",
       "    </tr>\n",
       "    <tr>\n",
       "      <th id=\"T_2bde9_level0_row15\" class=\"row_heading level0 row15\" >duration</th>\n",
       "      <th id=\"T_2bde9_level1_row15\" class=\"row_heading level1 row15\" >age</th>\n",
       "      <td id=\"T_2bde9_row15_col0\" class=\"data row15 col0\" >0.004648</td>\n",
       "    </tr>\n",
       "    <tr>\n",
       "      <th id=\"T_2bde9_level0_row16\" class=\"row_heading level0 row16\" >balance</th>\n",
       "      <th id=\"T_2bde9_level1_row16\" class=\"row_heading level1 row16\" >day</th>\n",
       "      <td id=\"T_2bde9_row16_col0\" class=\"data row16 col0\" >0.004503</td>\n",
       "    </tr>\n",
       "    <tr>\n",
       "      <th id=\"T_2bde9_level0_row17\" class=\"row_heading level0 row17\" rowspan=\"2\">pdays</th>\n",
       "      <th id=\"T_2bde9_level1_row17\" class=\"row_heading level1 row17\" >balance</th>\n",
       "      <td id=\"T_2bde9_row17_col0\" class=\"data row17 col0\" >0.003435</td>\n",
       "    </tr>\n",
       "    <tr>\n",
       "      <th id=\"T_2bde9_level1_row18\" class=\"row_heading level1 row18\" >duration</th>\n",
       "      <td id=\"T_2bde9_row18_col0\" class=\"data row18 col0\" >0.001565</td>\n",
       "    </tr>\n",
       "    <tr>\n",
       "      <th id=\"T_2bde9_level0_row19\" class=\"row_heading level0 row19\" >age</th>\n",
       "      <th id=\"T_2bde9_level1_row19\" class=\"row_heading level1 row19\" >previous</th>\n",
       "      <td id=\"T_2bde9_row19_col0\" class=\"data row19 col0\" >0.001288</td>\n",
       "    </tr>\n",
       "    <tr>\n",
       "      <th id=\"T_2bde9_level0_row20\" class=\"row_heading level0 row20\" >previous</th>\n",
       "      <th id=\"T_2bde9_level1_row20\" class=\"row_heading level1 row20\" >duration</th>\n",
       "      <td id=\"T_2bde9_row20_col0\" class=\"data row20 col0\" >0.001203</td>\n",
       "    </tr>\n",
       "  </tbody>\n",
       "</table>\n"
      ],
      "text/plain": [
       "<pandas.io.formats.style.Styler at 0x2c4b8069fd0>"
      ]
     },
     "execution_count": 9,
     "metadata": {},
     "output_type": "execute_result"
    }
   ],
   "source": [
    "# all correlation pairs in a dataframe sorted by absolute correlation without duplicates\n",
    "corr_pairs = corr.abs().unstack().sort_values(ascending=False).drop_duplicates()\n",
    "corr_pairs = corr_pairs[corr_pairs != 1]\n",
    "pd.DataFrame(corr_pairs, columns=[\"correlation\"]).style.background_gradient(cmap='coolwarm')"
   ]
  },
  {
   "cell_type": "code",
   "execution_count": 10,
   "metadata": {},
   "outputs": [
    {
     "name": "stdout",
     "output_type": "stream",
     "text": [
      "The highest correlated features are: ('previous', 'pdays')\n"
     ]
    }
   ],
   "source": [
    "print(f\"The highest correlated features are: {corr_pairs.index[0]}\")"
   ]
  },
  {
   "cell_type": "markdown",
   "metadata": {},
   "source": [
    "### Target encoding\n",
    "- Now we want to encode the y variable.\n",
    "- Let's replace the values yes/no with 1/0."
   ]
  },
  {
   "cell_type": "code",
   "execution_count": 11,
   "metadata": {},
   "outputs": [],
   "source": [
    "# encode target variable\n",
    "from sklearn.preprocessing import LabelEncoder\n",
    "le = LabelEncoder()\n",
    "y = le.fit_transform(y)"
   ]
  },
  {
   "cell_type": "markdown",
   "metadata": {},
   "source": [
    "### Split the data\n",
    "- Split your data in train/val/test sets with 60%/20%/20% distribution.\n",
    "- Use Scikit-Learn for that (the train_test_split function) and set the seed to 42.\n",
    "- Make sure that the target value y is not in your dataframe."
   ]
  },
  {
   "cell_type": "code",
   "execution_count": 12,
   "metadata": {},
   "outputs": [],
   "source": [
    "from sklearn.model_selection import train_test_split\n",
    "\n",
    "# split data into train/val/test with 60%/20%/20% ratio\n",
    "X_train, X_test, y_train, y_test = train_test_split(X, y, test_size=0.2, random_state=42)\n",
    "X_train, X_val, y_train, y_val = train_test_split(X_train, y_train, test_size=0.25, random_state=42)\n"
   ]
  },
  {
   "cell_type": "markdown",
   "metadata": {},
   "source": [
    "## Question 3\n",
    "\n",
    "Calculate the mutual information score between y and other categorical variables in the dataset. Use the training set only.\n",
    "Round the scores to 2 decimals using round(score, 2).\n",
    "Which of these variables has the biggest mutual information score?\n",
    "\n",
    "- contact\n",
    "- education\n",
    "- housing\n",
    "- poutcome"
   ]
  },
  {
   "cell_type": "code",
   "execution_count": 13,
   "metadata": {},
   "outputs": [
    {
     "data": {
      "image/png": "[encoded data removed]",
      "text/plain": [
       "<Figure size 640x480 with 1 Axes>"
      ]
     },
     "metadata": {},
     "output_type": "display_data"
    }
   ],
   "source": [
    "from sklearn.metrics import mutual_info_score\n",
    "\n",
    "# calculate mutual information cat variable and target\n",
    "mi = X_cat.apply(lambda x: mutual_info_score(x, y))\n",
    "mi.sort_values().plot(kind='barh', color='skyblue').set_title('Mutual Information between Categorical Features and Target')\n",
    "plt.show()"
   ]
  },
  {
   "cell_type": "code",
   "execution_count": 14,
   "metadata": {},
   "outputs": [
    {
     "name": "stdout",
     "output_type": "stream",
     "text": [
      "The highest mutual information between a categorical feature and the target is: 0.029397241496458754 for the feature: poutcome\n"
     ]
    }
   ],
   "source": [
    "print(f\"The highest mutual information between a categorical feature and the target is: {mi.max()} for the feature: {mi.idxmax()}\")"
   ]
  },
  {
   "cell_type": "markdown",
   "metadata": {},
   "source": [
    "## Question 4\n",
    "\n",
    "- Now let's train a logistic regression.\n",
    "- Remember that we have several categorical variables in the dataset. Include them using one-hot encoding.\n",
    "- Fit the model on the training dataset.\n",
    "  - To make sure the results are reproducible across different versions of Scikit-Learn, fit the model with these parameters:\n",
    "  - model = LogisticRegression(solver='liblinear', C=1.0, max_iter=1000, random_state=42)\n",
    "- Calculate the accuracy on the validation dataset and round it to 2 decimal digits.\n",
    "\n",
    "What accuracy did you get?\n",
    "\n",
    "- 0.6\n",
    "- 0.7\n",
    "- 0.8\n",
    "- 0.9"
   ]
  },
  {
   "cell_type": "code",
   "execution_count": 15,
   "metadata": {},
   "outputs": [
    {
     "data": {
      "text/html": [
       "<style>#sk-container-id-1 {color: black;}#sk-container-id-1 pre{padding: 0;}#sk-container-id-1 div.sk-toggleable {background-color: white;}#sk-container-id-1 label.sk-toggleable__label {cursor: pointer;display: block;width: 100%;margin-bottom: 0;padding: 0.3em;box-sizing: border-box;text-align: center;}#sk-container-id-1 label.sk-toggleable__label-arrow:before {content: \"▸\";float: left;margin-right: 0.25em;color: #696969;}#sk-container-id-1 label.sk-toggleable__label-arrow:hover:before {color: black;}#sk-container-id-1 div.sk-estimator:hover label.sk-toggleable__label-arrow:before {color: black;}#sk-container-id-1 div.sk-toggleable__content {max-height: 0;max-width: 0;overflow: hidden;text-align: left;background-color: #f0f8ff;}#sk-container-id-1 div.sk-toggleable__content pre {margin: 0.2em;color: black;border-radius: 0.25em;background-color: #f0f8ff;}#sk-container-id-1 input.sk-toggleable__control:checked~div.sk-toggleable__content {max-height: 200px;max-width: 100%;overflow: auto;}#sk-container-id-1 input.sk-toggleable__control:checked~label.sk-toggleable__label-arrow:before {content: \"▾\";}#sk-container-id-1 div.sk-estimator input.sk-toggleable__control:checked~label.sk-toggleable__label {background-color: #d4ebff;}#sk-container-id-1 div.sk-label input.sk-toggleable__control:checked~label.sk-toggleable__label {background-color: #d4ebff;}#sk-container-id-1 input.sk-hidden--visually {border: 0;clip: rect(1px 1px 1px 1px);clip: rect(1px, 1px, 1px, 1px);height: 1px;margin: -1px;overflow: hidden;padding: 0;position: absolute;width: 1px;}#sk-container-id-1 div.sk-estimator {font-family: monospace;background-color: #f0f8ff;border: 1px dotted black;border-radius: 0.25em;box-sizing: border-box;margin-bottom: 0.5em;}#sk-container-id-1 div.sk-estimator:hover {background-color: #d4ebff;}#sk-container-id-1 div.sk-parallel-item::after {content: \"\";width: 100%;border-bottom: 1px solid gray;flex-grow: 1;}#sk-container-id-1 div.sk-label:hover label.sk-toggleable__label {background-color: #d4ebff;}#sk-container-id-1 div.sk-serial::before {content: \"\";position: absolute;border-left: 1px solid gray;box-sizing: border-box;top: 0;bottom: 0;left: 50%;z-index: 0;}#sk-container-id-1 div.sk-serial {display: flex;flex-direction: column;align-items: center;background-color: white;padding-right: 0.2em;padding-left: 0.2em;position: relative;}#sk-container-id-1 div.sk-item {position: relative;z-index: 1;}#sk-container-id-1 div.sk-parallel {display: flex;align-items: stretch;justify-content: center;background-color: white;position: relative;}#sk-container-id-1 div.sk-item::before, #sk-container-id-1 div.sk-parallel-item::before {content: \"\";position: absolute;border-left: 1px solid gray;box-sizing: border-box;top: 0;bottom: 0;left: 50%;z-index: -1;}#sk-container-id-1 div.sk-parallel-item {display: flex;flex-direction: column;z-index: 1;position: relative;background-color: white;}#sk-container-id-1 div.sk-parallel-item:first-child::after {align-self: flex-end;width: 50%;}#sk-container-id-1 div.sk-parallel-item:last-child::after {align-self: flex-start;width: 50%;}#sk-container-id-1 div.sk-parallel-item:only-child::after {width: 0;}#sk-container-id-1 div.sk-dashed-wrapped {border: 1px dashed gray;margin: 0 0.4em 0.5em 0.4em;box-sizing: border-box;padding-bottom: 0.4em;background-color: white;}#sk-container-id-1 div.sk-label label {font-family: monospace;font-weight: bold;display: inline-block;line-height: 1.2em;}#sk-container-id-1 div.sk-label-container {text-align: center;}#sk-container-id-1 div.sk-container {/* jupyter's `normalize.less` sets `[hidden] { display: none; }` but bootstrap.min.css set `[hidden] { display: none !important; }` so we also need the `!important` here to be able to override the default hidden behavior on the sphinx rendered scikit-learn.org. See: https://github.com/scikit-learn/scikit-learn/issues/21755 */display: inline-block !important;position: relative;}#sk-container-id-1 div.sk-text-repr-fallback {display: none;}</style><div id=\"sk-container-id-1\" class=\"sk-top-container\"><div class=\"sk-text-repr-fallback\"><pre>Pipeline(steps=[(&#x27;columntransformer&#x27;,\n",
       "                 ColumnTransformer(transformers=[(&#x27;num&#x27;, &#x27;passthrough&#x27;,\n",
       "                                                  Index([&#x27;age&#x27;, &#x27;balance&#x27;, &#x27;day&#x27;, &#x27;duration&#x27;, &#x27;campaign&#x27;, &#x27;pdays&#x27;, &#x27;previous&#x27;], dtype=&#x27;object&#x27;)),\n",
       "                                                 (&#x27;cat&#x27;, OneHotEncoder(),\n",
       "                                                  Index([&#x27;job&#x27;, &#x27;marital&#x27;, &#x27;education&#x27;, &#x27;housing&#x27;, &#x27;contact&#x27;, &#x27;month&#x27;,\n",
       "       &#x27;poutcome&#x27;],\n",
       "      dtype=&#x27;object&#x27;))])),\n",
       "                (&#x27;logisticregression&#x27;,\n",
       "                 LogisticRegression(max_iter=1000, random_state=42,\n",
       "                                    solver=&#x27;liblinear&#x27;))])</pre><b>In a Jupyter environment, please rerun this cell to show the HTML representation or trust the notebook. <br />On GitHub, the HTML representation is unable to render, please try loading this page with nbviewer.org.</b></div><div class=\"sk-container\" hidden><div class=\"sk-item sk-dashed-wrapped\"><div class=\"sk-label-container\"><div class=\"sk-label sk-toggleable\"><input class=\"sk-toggleable__control sk-hidden--visually\" id=\"sk-estimator-id-1\" type=\"checkbox\" ><label for=\"sk-estimator-id-1\" class=\"sk-toggleable__label sk-toggleable__label-arrow\">Pipeline</label><div class=\"sk-toggleable__content\"><pre>Pipeline(steps=[(&#x27;columntransformer&#x27;,\n",
       "                 ColumnTransformer(transformers=[(&#x27;num&#x27;, &#x27;passthrough&#x27;,\n",
       "                                                  Index([&#x27;age&#x27;, &#x27;balance&#x27;, &#x27;day&#x27;, &#x27;duration&#x27;, &#x27;campaign&#x27;, &#x27;pdays&#x27;, &#x27;previous&#x27;], dtype=&#x27;object&#x27;)),\n",
       "                                                 (&#x27;cat&#x27;, OneHotEncoder(),\n",
       "                                                  Index([&#x27;job&#x27;, &#x27;marital&#x27;, &#x27;education&#x27;, &#x27;housing&#x27;, &#x27;contact&#x27;, &#x27;month&#x27;,\n",
       "       &#x27;poutcome&#x27;],\n",
       "      dtype=&#x27;object&#x27;))])),\n",
       "                (&#x27;logisticregression&#x27;,\n",
       "                 LogisticRegression(max_iter=1000, random_state=42,\n",
       "                                    solver=&#x27;liblinear&#x27;))])</pre></div></div></div><div class=\"sk-serial\"><div class=\"sk-item sk-dashed-wrapped\"><div class=\"sk-label-container\"><div class=\"sk-label sk-toggleable\"><input class=\"sk-toggleable__control sk-hidden--visually\" id=\"sk-estimator-id-2\" type=\"checkbox\" ><label for=\"sk-estimator-id-2\" class=\"sk-toggleable__label sk-toggleable__label-arrow\">columntransformer: ColumnTransformer</label><div class=\"sk-toggleable__content\"><pre>ColumnTransformer(transformers=[(&#x27;num&#x27;, &#x27;passthrough&#x27;,\n",
       "                                 Index([&#x27;age&#x27;, &#x27;balance&#x27;, &#x27;day&#x27;, &#x27;duration&#x27;, &#x27;campaign&#x27;, &#x27;pdays&#x27;, &#x27;previous&#x27;], dtype=&#x27;object&#x27;)),\n",
       "                                (&#x27;cat&#x27;, OneHotEncoder(),\n",
       "                                 Index([&#x27;job&#x27;, &#x27;marital&#x27;, &#x27;education&#x27;, &#x27;housing&#x27;, &#x27;contact&#x27;, &#x27;month&#x27;,\n",
       "       &#x27;poutcome&#x27;],\n",
       "      dtype=&#x27;object&#x27;))])</pre></div></div></div><div class=\"sk-parallel\"><div class=\"sk-parallel-item\"><div class=\"sk-item\"><div class=\"sk-label-container\"><div class=\"sk-label sk-toggleable\"><input class=\"sk-toggleable__control sk-hidden--visually\" id=\"sk-estimator-id-3\" type=\"checkbox\" ><label for=\"sk-estimator-id-3\" class=\"sk-toggleable__label sk-toggleable__label-arrow\">num</label><div class=\"sk-toggleable__content\"><pre>Index([&#x27;age&#x27;, &#x27;balance&#x27;, &#x27;day&#x27;, &#x27;duration&#x27;, &#x27;campaign&#x27;, &#x27;pdays&#x27;, &#x27;previous&#x27;], dtype=&#x27;object&#x27;)</pre></div></div></div><div class=\"sk-serial\"><div class=\"sk-item\"><div class=\"sk-estimator sk-toggleable\"><input class=\"sk-toggleable__control sk-hidden--visually\" id=\"sk-estimator-id-4\" type=\"checkbox\" ><label for=\"sk-estimator-id-4\" class=\"sk-toggleable__label sk-toggleable__label-arrow\">passthrough</label><div class=\"sk-toggleable__content\"><pre>passthrough</pre></div></div></div></div></div></div><div class=\"sk-parallel-item\"><div class=\"sk-item\"><div class=\"sk-label-container\"><div class=\"sk-label sk-toggleable\"><input class=\"sk-toggleable__control sk-hidden--visually\" id=\"sk-estimator-id-5\" type=\"checkbox\" ><label for=\"sk-estimator-id-5\" class=\"sk-toggleable__label sk-toggleable__label-arrow\">cat</label><div class=\"sk-toggleable__content\"><pre>Index([&#x27;job&#x27;, &#x27;marital&#x27;, &#x27;education&#x27;, &#x27;housing&#x27;, &#x27;contact&#x27;, &#x27;month&#x27;,\n",
       "       &#x27;poutcome&#x27;],\n",
       "      dtype=&#x27;object&#x27;)</pre></div></div></div><div class=\"sk-serial\"><div class=\"sk-item\"><div class=\"sk-estimator sk-toggleable\"><input class=\"sk-toggleable__control sk-hidden--visually\" id=\"sk-estimator-id-6\" type=\"checkbox\" ><label for=\"sk-estimator-id-6\" class=\"sk-toggleable__label sk-toggleable__label-arrow\">OneHotEncoder</label><div class=\"sk-toggleable__content\"><pre>OneHotEncoder()</pre></div></div></div></div></div></div></div></div><div class=\"sk-item\"><div class=\"sk-estimator sk-toggleable\"><input class=\"sk-toggleable__control sk-hidden--visually\" id=\"sk-estimator-id-7\" type=\"checkbox\" ><label for=\"sk-estimator-id-7\" class=\"sk-toggleable__label sk-toggleable__label-arrow\">LogisticRegression</label><div class=\"sk-toggleable__content\"><pre>LogisticRegression(max_iter=1000, random_state=42, solver=&#x27;liblinear&#x27;)</pre></div></div></div></div></div></div></div>"
      ],
      "text/plain": [
       "Pipeline(steps=[('columntransformer',\n",
       "                 ColumnTransformer(transformers=[('num', 'passthrough',\n",
       "                                                  Index(['age', 'balance', 'day', 'duration', 'campaign', 'pdays', 'previous'], dtype='object')),\n",
       "                                                 ('cat', OneHotEncoder(),\n",
       "                                                  Index(['job', 'marital', 'education', 'housing', 'contact', 'month',\n",
       "       'poutcome'],\n",
       "      dtype='object'))])),\n",
       "                ('logisticregression',\n",
       "                 LogisticRegression(max_iter=1000, random_state=42,\n",
       "                                    solver='liblinear'))])"
      ]
     },
     "execution_count": 15,
     "metadata": {},
     "output_type": "execute_result"
    }
   ],
   "source": [
    "from sklearn.linear_model import LogisticRegression\n",
    "from sklearn.pipeline import make_pipeline\n",
    "from sklearn.compose import ColumnTransformer\n",
    "from sklearn.preprocessing import OneHotEncoder\n",
    "\n",
    "\n",
    "# create a pipeline for the model\n",
    "preprocessor = ColumnTransformer([\n",
    "    ('num', 'passthrough', X_num.columns),\n",
    "    ('cat', OneHotEncoder(), X_cat.columns)\n",
    "])\n",
    "\n",
    "model = make_pipeline(preprocessor, LogisticRegression(solver='liblinear', C=1.0, max_iter=1000, random_state=42))\n",
    "\n",
    "model\n"
   ]
  },
  {
   "cell_type": "code",
   "execution_count": 16,
   "metadata": {},
   "outputs": [
    {
     "name": "stdout",
     "output_type": "stream",
     "text": [
      "The accuracy of the model is: 0.9\n"
     ]
    }
   ],
   "source": [
    "# fit model\n",
    "model.fit(X_train, y_train)\n",
    "\n",
    "# predict on validation set\n",
    "y_pred = model.predict(X_val)\n",
    "\n",
    "from sklearn.metrics import accuracy_score\n",
    "\n",
    "# calculate accuracy\n",
    "accuracy = round(accuracy_score(y_val, y_pred),2)\n",
    "\n",
    "print(f\"The accuracy of the model is: {accuracy}\")\n"
   ]
  },
  {
   "cell_type": "markdown",
   "metadata": {},
   "source": [
    "## Question 5\n",
    "\n",
    "- Let's find the least useful feature using the feature elimination technique.\n",
    "- Train a model with all these features (using the same parameters as in Q4).\n",
    "- Now exclude each feature from this set and train a model without it. Record the accuracy for each model.\n",
    "- For each feature, calculate the difference between the original accuracy and the accuracy without the feature.\n",
    "\n",
    "Which of following feature has the smallest difference?\n",
    "\n",
    "- age\n",
    "- balance\n",
    "- marital\n",
    "- previous\n",
    "\n",
    "Note: The difference doesn't have to be positive."
   ]
  },
  {
   "cell_type": "code",
   "execution_count": 17,
   "metadata": {},
   "outputs": [
    {
     "data": {
      "text/html": [
       "<div>\n",
       "<style scoped>\n",
       "    .dataframe tbody tr th:only-of-type {\n",
       "        vertical-align: middle;\n",
       "    }\n",
       "\n",
       "    .dataframe tbody tr th {\n",
       "        vertical-align: top;\n",
       "    }\n",
       "\n",
       "    .dataframe thead th {\n",
       "        text-align: right;\n",
       "    }\n",
       "</style>\n",
       "<table border=\"1\" class=\"dataframe\">\n",
       "  <thead>\n",
       "    <tr style=\"text-align: right;\">\n",
       "      <th></th>\n",
       "      <th>age</th>\n",
       "      <th>job</th>\n",
       "      <th>marital</th>\n",
       "      <th>education</th>\n",
       "      <th>balance</th>\n",
       "      <th>housing</th>\n",
       "      <th>contact</th>\n",
       "      <th>day</th>\n",
       "      <th>month</th>\n",
       "      <th>duration</th>\n",
       "      <th>campaign</th>\n",
       "      <th>pdays</th>\n",
       "      <th>previous</th>\n",
       "      <th>poutcome</th>\n",
       "    </tr>\n",
       "  </thead>\n",
       "  <tbody>\n",
       "    <tr>\n",
       "      <th>20326</th>\n",
       "      <td>32</td>\n",
       "      <td>technician</td>\n",
       "      <td>single</td>\n",
       "      <td>tertiary</td>\n",
       "      <td>1100</td>\n",
       "      <td>yes</td>\n",
       "      <td>cellular</td>\n",
       "      <td>11</td>\n",
       "      <td>aug</td>\n",
       "      <td>67</td>\n",
       "      <td>1</td>\n",
       "      <td>-1</td>\n",
       "      <td>0</td>\n",
       "      <td>unknown</td>\n",
       "    </tr>\n",
       "    <tr>\n",
       "      <th>24301</th>\n",
       "      <td>38</td>\n",
       "      <td>entrepreneur</td>\n",
       "      <td>married</td>\n",
       "      <td>secondary</td>\n",
       "      <td>0</td>\n",
       "      <td>yes</td>\n",
       "      <td>cellular</td>\n",
       "      <td>17</td>\n",
       "      <td>nov</td>\n",
       "      <td>258</td>\n",
       "      <td>1</td>\n",
       "      <td>-1</td>\n",
       "      <td>0</td>\n",
       "      <td>unknown</td>\n",
       "    </tr>\n",
       "    <tr>\n",
       "      <th>38618</th>\n",
       "      <td>49</td>\n",
       "      <td>blue-collar</td>\n",
       "      <td>married</td>\n",
       "      <td>secondary</td>\n",
       "      <td>3309</td>\n",
       "      <td>yes</td>\n",
       "      <td>cellular</td>\n",
       "      <td>15</td>\n",
       "      <td>may</td>\n",
       "      <td>349</td>\n",
       "      <td>2</td>\n",
       "      <td>-1</td>\n",
       "      <td>0</td>\n",
       "      <td>unknown</td>\n",
       "    </tr>\n",
       "    <tr>\n",
       "      <th>18909</th>\n",
       "      <td>37</td>\n",
       "      <td>housemaid</td>\n",
       "      <td>married</td>\n",
       "      <td>primary</td>\n",
       "      <td>2410</td>\n",
       "      <td>no</td>\n",
       "      <td>cellular</td>\n",
       "      <td>4</td>\n",
       "      <td>aug</td>\n",
       "      <td>315</td>\n",
       "      <td>1</td>\n",
       "      <td>-1</td>\n",
       "      <td>0</td>\n",
       "      <td>unknown</td>\n",
       "    </tr>\n",
       "    <tr>\n",
       "      <th>23081</th>\n",
       "      <td>31</td>\n",
       "      <td>self-employed</td>\n",
       "      <td>married</td>\n",
       "      <td>tertiary</td>\n",
       "      <td>3220</td>\n",
       "      <td>no</td>\n",
       "      <td>cellular</td>\n",
       "      <td>26</td>\n",
       "      <td>aug</td>\n",
       "      <td>74</td>\n",
       "      <td>4</td>\n",
       "      <td>-1</td>\n",
       "      <td>0</td>\n",
       "      <td>unknown</td>\n",
       "    </tr>\n",
       "    <tr>\n",
       "      <th>...</th>\n",
       "      <td>...</td>\n",
       "      <td>...</td>\n",
       "      <td>...</td>\n",
       "      <td>...</td>\n",
       "      <td>...</td>\n",
       "      <td>...</td>\n",
       "      <td>...</td>\n",
       "      <td>...</td>\n",
       "      <td>...</td>\n",
       "      <td>...</td>\n",
       "      <td>...</td>\n",
       "      <td>...</td>\n",
       "      <td>...</td>\n",
       "      <td>...</td>\n",
       "    </tr>\n",
       "    <tr>\n",
       "      <th>13264</th>\n",
       "      <td>27</td>\n",
       "      <td>services</td>\n",
       "      <td>single</td>\n",
       "      <td>secondary</td>\n",
       "      <td>167</td>\n",
       "      <td>no</td>\n",
       "      <td>cellular</td>\n",
       "      <td>8</td>\n",
       "      <td>jul</td>\n",
       "      <td>606</td>\n",
       "      <td>2</td>\n",
       "      <td>-1</td>\n",
       "      <td>0</td>\n",
       "      <td>unknown</td>\n",
       "    </tr>\n",
       "    <tr>\n",
       "      <th>28829</th>\n",
       "      <td>40</td>\n",
       "      <td>technician</td>\n",
       "      <td>single</td>\n",
       "      <td>tertiary</td>\n",
       "      <td>693</td>\n",
       "      <td>no</td>\n",
       "      <td>cellular</td>\n",
       "      <td>30</td>\n",
       "      <td>jan</td>\n",
       "      <td>427</td>\n",
       "      <td>1</td>\n",
       "      <td>-1</td>\n",
       "      <td>0</td>\n",
       "      <td>unknown</td>\n",
       "    </tr>\n",
       "    <tr>\n",
       "      <th>3844</th>\n",
       "      <td>54</td>\n",
       "      <td>technician</td>\n",
       "      <td>divorced</td>\n",
       "      <td>secondary</td>\n",
       "      <td>0</td>\n",
       "      <td>yes</td>\n",
       "      <td>unknown</td>\n",
       "      <td>16</td>\n",
       "      <td>may</td>\n",
       "      <td>161</td>\n",
       "      <td>1</td>\n",
       "      <td>-1</td>\n",
       "      <td>0</td>\n",
       "      <td>unknown</td>\n",
       "    </tr>\n",
       "    <tr>\n",
       "      <th>15597</th>\n",
       "      <td>25</td>\n",
       "      <td>services</td>\n",
       "      <td>single</td>\n",
       "      <td>secondary</td>\n",
       "      <td>2311</td>\n",
       "      <td>no</td>\n",
       "      <td>cellular</td>\n",
       "      <td>21</td>\n",
       "      <td>jul</td>\n",
       "      <td>1105</td>\n",
       "      <td>2</td>\n",
       "      <td>-1</td>\n",
       "      <td>0</td>\n",
       "      <td>unknown</td>\n",
       "    </tr>\n",
       "    <tr>\n",
       "      <th>22987</th>\n",
       "      <td>30</td>\n",
       "      <td>management</td>\n",
       "      <td>single</td>\n",
       "      <td>tertiary</td>\n",
       "      <td>15</td>\n",
       "      <td>no</td>\n",
       "      <td>cellular</td>\n",
       "      <td>26</td>\n",
       "      <td>aug</td>\n",
       "      <td>252</td>\n",
       "      <td>2</td>\n",
       "      <td>-1</td>\n",
       "      <td>0</td>\n",
       "      <td>unknown</td>\n",
       "    </tr>\n",
       "  </tbody>\n",
       "</table>\n",
       "<p>27126 rows × 14 columns</p>\n",
       "</div>"
      ],
      "text/plain": [
       "       age            job   marital  education  balance housing   contact  \\\n",
       "20326   32     technician    single   tertiary     1100     yes  cellular   \n",
       "24301   38   entrepreneur   married  secondary        0     yes  cellular   \n",
       "38618   49    blue-collar   married  secondary     3309     yes  cellular   \n",
       "18909   37      housemaid   married    primary     2410      no  cellular   \n",
       "23081   31  self-employed   married   tertiary     3220      no  cellular   \n",
       "...    ...            ...       ...        ...      ...     ...       ...   \n",
       "13264   27       services    single  secondary      167      no  cellular   \n",
       "28829   40     technician    single   tertiary      693      no  cellular   \n",
       "3844    54     technician  divorced  secondary        0     yes   unknown   \n",
       "15597   25       services    single  secondary     2311      no  cellular   \n",
       "22987   30     management    single   tertiary       15      no  cellular   \n",
       "\n",
       "       day month  duration  campaign  pdays  previous poutcome  \n",
       "20326   11   aug        67         1     -1         0  unknown  \n",
       "24301   17   nov       258         1     -1         0  unknown  \n",
       "38618   15   may       349         2     -1         0  unknown  \n",
       "18909    4   aug       315         1     -1         0  unknown  \n",
       "23081   26   aug        74         4     -1         0  unknown  \n",
       "...    ...   ...       ...       ...    ...       ...      ...  \n",
       "13264    8   jul       606         2     -1         0  unknown  \n",
       "28829   30   jan       427         1     -1         0  unknown  \n",
       "3844    16   may       161         1     -1         0  unknown  \n",
       "15597   21   jul      1105         2     -1         0  unknown  \n",
       "22987   26   aug       252         2     -1         0  unknown  \n",
       "\n",
       "[27126 rows x 14 columns]"
      ]
     },
     "execution_count": 17,
     "metadata": {},
     "output_type": "execute_result"
    }
   ],
   "source": [
    "X_train"
   ]
  },
  {
   "cell_type": "code",
   "execution_count": 18,
   "metadata": {},
   "outputs": [],
   "source": [
    "# train model again with feature elimination one by one, calculate accuracy and store in a list\n",
    "accuracies = {}\n",
    "\n",
    "for feature in X.columns:\n",
    "    X_train_temp = X_train.drop(columns=feature)\n",
    "    X_val_temp = X_val.drop(columns=feature)\n",
    "    \n",
    "    # Update the preprocessor to match the new columns\n",
    "    preprocessor = ColumnTransformer([\n",
    "        ('num', 'passthrough', X_train_temp.select_dtypes(include=[np.number]).columns),\n",
    "        ('cat', OneHotEncoder(), X_train_temp.select_dtypes(include=[object]).columns)\n",
    "    ])\n",
    "    \n",
    "    model = make_pipeline(preprocessor, LogisticRegression(solver='liblinear', C=1.0, max_iter=1000, random_state=42))\n",
    "    \n",
    "    model.fit(X_train_temp, y_train)\n",
    "    y_pred = model.predict(X_val_temp)\n",
    "    \n",
    "    accuracy_elimination = accuracy_score(y_val, y_pred)\n",
    "    \n",
    "    # Store the accuracy in a dictionary\n",
    "    # For each feature, calculate the difference between the original accuracy and the accuracy without the feature\n",
    "    accuracies[feature] = accuracy - accuracy_elimination\n",
    "\n",
    "# sorted dictionary\n",
    "sorted_accuracies = dict(sorted(accuracies.items(), key=lambda item: item[1], reverse=True))"
   ]
  },
  {
   "cell_type": "code",
   "execution_count": 19,
   "metadata": {},
   "outputs": [
    {
     "name": "stdout",
     "output_type": "stream",
     "text": [
      "The difference of removing the features is: {'age': -0.0003539040035389629, 'balance': -0.0013492590134925875, 'marital': -0.0009068790090687173, 'previous': -0.0010174740101747126}\n",
      "The feature with the smallest difference is: age\n"
     ]
    }
   ],
   "source": [
    "# select only the features difference\n",
    "features = ['age', 'balance', 'marital', 'previous']\n",
    "\n",
    "# get the differences of removing the features\n",
    "difference = {feature: sorted_accuracies[feature] for feature in features}\n",
    "\n",
    "print(f\"The difference of removing the features is: {difference}\") \n",
    "\n",
    "# Which of following feature has the smallest difference?\n",
    "print(f\"The feature with the smallest difference is: {max(difference, key=difference.get)}\")"
   ]
  },
  {
   "cell_type": "code",
   "execution_count": 20,
   "metadata": {},
   "outputs": [
    {
     "data": {
      "image/png": "[encoded data removed]",
      "text/plain": [
       "<Figure size 640x480 with 1 Axes>"
      ]
     },
     "metadata": {},
     "output_type": "display_data"
    }
   ],
   "source": [
    "# Sort the differences by values\n",
    "sorted_difference = dict(sorted(difference.items(), key=lambda item: item[1]))\n",
    "\n",
    "# Plot the sorted differences\n",
    "plt.bar(sorted_difference.keys(), sorted_difference.values())\n",
    "plt.ylabel('Difference in accuracy')\n",
    "plt.xlabel('Feature')\n",
    "plt.title('Difference in accuracy by removing feature')\n",
    "plt.show()"
   ]
  },
  {
   "cell_type": "markdown",
   "metadata": {},
   "source": [
    "## Question 6\n",
    "- Now let's train a regularized logistic regression.\n",
    "- Let's try the following values of the parameter C: [0.01, 0.1, 1, 10, 100].\n",
    "- Train models using all the features as in Q4.\n",
    "- Calculate the accuracy on the validation dataset and round it to 3 decimal digits.\n",
    "\n",
    "Which of these C leads to the best accuracy on the validation set?\n",
    "\n",
    "- 0.01\n",
    "- 0.1\n",
    "- 1\n",
    "- 10\n",
    "- 100\n",
    "\n",
    "Note: If there are multiple options, select the smallest C."
   ]
  },
  {
   "cell_type": "code",
   "execution_count": 21,
   "metadata": {},
   "outputs": [],
   "source": [
    "C = [0.001, 0.01, 0.1, 1, 10, 100]\n",
    "\n",
    "\n",
    "# train model again with different C values, calculate accuracy and store in a list\n",
    "accuracies = {}\n",
    "\n",
    "for c in C:\n",
    "    preprocessor = ColumnTransformer([\n",
    "        ('num', 'passthrough', X_train.select_dtypes(include=[np.number]).columns),\n",
    "        ('cat', OneHotEncoder(), X_train.select_dtypes(include=[object]).columns)\n",
    "    ])\n",
    "    \n",
    "    model = make_pipeline(preprocessor, LogisticRegression(solver='liblinear', C=c, max_iter=1000, random_state=42))\n",
    "    \n",
    "    model.fit(X_train, y_train)\n",
    "    y_pred = model.predict(X_val)\n",
    "    \n",
    "    accuracy_c = round(accuracy_score(y_val, y_pred),3)\n",
    "    \n",
    "    # Store the accuracy in a dictionary\n",
    "    accuracies[c] = accuracy_c\n",
    "    \n",
    "# sorted dictionary\n",
    "sorted_accuracies = dict(sorted(accuracies.items(), key=lambda item: item[1], reverse=True))"
   ]
  },
  {
   "cell_type": "code",
   "execution_count": 22,
   "metadata": {},
   "outputs": [
    {
     "data": {
      "text/plain": [
       "{0.1: 0.901, 1: 0.901, 10: 0.901, 100: 0.901, 0.01: 0.898, 0.001: 0.891}"
      ]
     },
     "execution_count": 22,
     "metadata": {},
     "output_type": "execute_result"
    }
   ],
   "source": [
    "sorted_accuracies"
   ]
  },
  {
   "cell_type": "code",
   "execution_count": 106,
   "metadata": {},
   "outputs": [
    {
     "name": "stdout",
     "output_type": "stream",
     "text": [
      "The accuracy of the model with the best C value is: 0.1\n"
     ]
    }
   ],
   "source": [
    "print(f\"The accuracy of the model with the best C value is: {max(sorted_accuracies, key=sorted_accuracies.get)}\")"
   ]
  }
 ],
 "metadata": {
  "kernelspec": {
   "display_name": "Python 3",
   "language": "python",
   "name": "python3"
  },
  "language_info": {
   "codemirror_mode": {
    "name": "ipython",
    "version": 3
   },
   "file_extension": ".py",
   "mimetype": "text/x-python",
   "name": "python",
   "nbconvert_exporter": "python",
   "pygments_lexer": "ipython3",
   "version": "3.11.3"
  }
 },
 "nbformat": 4,
 "nbformat_minor": 2
}
