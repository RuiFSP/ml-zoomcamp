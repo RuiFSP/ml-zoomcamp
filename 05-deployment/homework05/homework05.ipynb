{
 "cells": [
  {
   "cell_type": "markdown",
   "metadata": {},
   "source": [
    "# Homework5 - datatalks.club - Rui Pinto"
   ]
  },
  {
   "cell_type": "code",
   "execution_count": 32,
   "metadata": {},
   "outputs": [],
   "source": [
    "import pickle\n",
    "import glob\n",
    "from sklearn.linear_model import LogisticRegression\n",
    "from sklearn.feature_extraction import DictVectorizer"
   ]
  },
  {
   "cell_type": "markdown",
   "metadata": {},
   "source": [
    "## Question 1\n",
    "- Install Pipenv\n",
    "- What's the version of pipenv you installed?\n",
    "- Use --version to find out"
   ]
  },
  {
   "cell_type": "code",
   "execution_count": 5,
   "metadata": {},
   "outputs": [],
   "source": [
    "#Note: we recommend using python 3.11 in this homework.\n",
    "#!pipenv install python 3.11"
   ]
  },
  {
   "cell_type": "code",
   "execution_count": 6,
   "metadata": {},
   "outputs": [
    {
     "name": "stdout",
     "output_type": "stream",
     "text": [
      "\u001b[1mpipenv\u001b[0m, version 2024.2.0\n"
     ]
    }
   ],
   "source": [
    "!pipenv --version"
   ]
  },
  {
   "cell_type": "markdown",
   "metadata": {},
   "source": [
    "## Question 2\n",
    "- Use Pipenv to install Scikit-Learn version 1.5.2\n",
    "- What's the first hash for scikit-learn you get in Pipfile.lock?"
   ]
  },
  {
   "cell_type": "code",
   "execution_count": 7,
   "metadata": {},
   "outputs": [],
   "source": [
    "#!pipenv install scikit-learn==1.5.2"
   ]
  },
  {
   "cell_type": "code",
   "execution_count": 13,
   "metadata": {},
   "outputs": [
    {
     "name": "stdout",
     "output_type": "stream",
     "text": [
      "        \"scikit-learn\": {\n",
      "            \"hashes\": [\n",
      "                \"sha256:03b6158efa3faaf1feea3faa884c840ebd61b6484167c711548fce208ea09445\",\n"
     ]
    }
   ],
   "source": [
    "# check first hash in pipfile.lock file for scikit-learn\n",
    "!grep scikit-learn Pipfile.lock -A 2"
   ]
  },
  {
   "cell_type": "markdown",
   "metadata": {},
   "source": [
    "## Question 3\n",
    "Let's use these models!\n",
    "\n",
    "- Write a script for loading these models with pickle\n",
    "- Score this client:\n",
    "\n",
    "```\n",
    "{\"job\": \"management\", \"duration\": 400, \"poutcome\": \"success\"}\n",
    "```"
   ]
  },
  {
   "cell_type": "markdown",
   "metadata": {},
   "source": [
    "What's the probability that this client will get a subscription?\n",
    "\n",
    "- 0.359\n",
    "- 0.559\n",
    "- 0.759\n",
    "- 0.959"
   ]
  },
  {
   "cell_type": "code",
   "execution_count": 44,
   "metadata": {},
   "outputs": [
    {
     "name": "stdout",
     "output_type": "stream",
     "text": [
      "--2024-10-27 14:25:33--  https://raw.githubusercontent.com/DataTalksClub/machine-learning-zoomcamp/master/cohorts/2024/05-deployment/homework/model1.bin\n",
      "Resolving raw.githubusercontent.com (raw.githubusercontent.com)... 185.199.109.133, 185.199.108.133, 185.199.110.133, ...\n",
      "Connecting to raw.githubusercontent.com (raw.githubusercontent.com)|185.199.109.133|:443... connected.\n",
      "HTTP request sent, awaiting response... 200 OK\n",
      "Length: 850 [application/octet-stream]\n",
      "Saving to: ‘model1.bin’\n",
      "\n",
      "model1.bin          100%[===================>]     850  --.-KB/s    in 0s      \n",
      "\n",
      "2024-10-27 14:25:33 (75.1 MB/s) - ‘model1.bin’ saved [850/850]\n",
      "\n",
      "--2024-10-27 14:25:33--  https://raw.githubusercontent.com/DataTalksClub/machine-learning-zoomcamp/master/cohorts/2024/05-deployment/homework/dv.bin\n",
      "Resolving raw.githubusercontent.com (raw.githubusercontent.com)... 185.199.110.133, 185.199.108.133, 185.199.109.133, ...\n",
      "Connecting to raw.githubusercontent.com (raw.githubusercontent.com)|185.199.110.133|:443... connected.\n",
      "HTTP request sent, awaiting response... 200 OK\n",
      "Length: 560 [application/octet-stream]\n",
      "Saving to: ‘dv.bin’\n",
      "\n",
      "dv.bin              100%[===================>]     560  --.-KB/s    in 0s      \n",
      "\n",
      "2024-10-27 14:25:33 (43.0 MB/s) - ‘dv.bin’ saved [560/560]\n",
      "\n"
     ]
    }
   ],
   "source": [
    "# Download the model and vectorizer using the raw file URLs\n",
    "PREFIX=\"https://raw.githubusercontent.com/DataTalksClub/machine-learning-zoomcamp/master/cohorts/2024/05-deployment/homework\"\n",
    "#!wget $PREFIX/model1.bin\n",
    "#!wget $PREFIX/dv.bin"
   ]
  },
  {
   "cell_type": "code",
   "execution_count": 45,
   "metadata": {},
   "outputs": [
    {
     "data": {
      "text/plain": [
       "(LogisticRegression(max_iter=250), DictVectorizer(sparse=False))"
      ]
     },
     "execution_count": 45,
     "metadata": {},
     "output_type": "execute_result"
    }
   ],
   "source": [
    "# load the model and the vectorizer\n",
    "model_file = \"model1.bin\"\n",
    "dv_file = \"dv.bin\"\n",
    "\n",
    "with open(model_file, \"rb\") as f_in:\n",
    "    model = pickle.load(f_in)\n",
    "    \n",
    "with open(dv_file, \"rb\") as f_in:\n",
    "    dv = pickle.load(f_in)\n",
    "    \n",
    "model, dv"
   ]
  },
  {
   "cell_type": "code",
   "execution_count": 48,
   "metadata": {},
   "outputs": [
    {
     "name": "stdout",
     "output_type": "stream",
     "text": [
      "The probability of the costumer subscribing to the term deposit is 0.759\n"
     ]
    }
   ],
   "source": [
    "# testing the model\n",
    "costumer = {\"job\": \"management\", \"duration\": 400, \"poutcome\": \"success\"}\n",
    "\n",
    "X = dv.transform([costumer])\n",
    "y_pred = model.predict_proba(X)[0, 1]\n",
    "\n",
    "\n",
    "print(f\"The probability of the costumer subscribing to the term deposit is {y_pred:.3f}\")"
   ]
  },
  {
   "cell_type": "code",
   "execution_count": 50,
   "metadata": {},
   "outputs": [
    {
     "name": "stdout",
     "output_type": "stream",
     "text": [
      "{\n",
      "  \"subscription_probability\": 0.7590966516879658\n",
      "}\n"
     ]
    }
   ],
   "source": [
    "# testing the model with curl\n",
    "!curl -X POST \"http://127.0.0.1:9696/predict\" -H \"Content-Type: application/json\" -d '{\"job\": \"management\", \"duration\": 400, \"poutcome\": \"success\"}'"
   ]
  },
  {
   "cell_type": "markdown",
   "metadata": {},
   "source": [
    "## Question 4\n",
    "Now let's serve this model as a web service\n",
    "\n",
    "- Install Flask and gunicorn (or waitress, if you're on Windows)\n",
    "- Write Flask code for serving the model\n",
    "- Now score this client using requests:\n",
    "\n",
    "```python\n",
    "url = \"YOUR_URL\"\n",
    "client = {\"job\": \"student\", \"duration\": 280, \"poutcome\": \"failure\"}\n",
    "requests.post(url, json=client).json()\n",
    "```"
   ]
  },
  {
   "cell_type": "markdown",
   "metadata": {},
   "source": [
    "What's the probability that this client will get a subscription?\n",
    "\n",
    "- 0.335\n",
    "- 0.535\n",
    "- 0.735\n",
    "- 0.935"
   ]
  },
  {
   "cell_type": "code",
   "execution_count": 54,
   "metadata": {},
   "outputs": [
    {
     "name": "stdout",
     "output_type": "stream",
     "text": [
      "Prediction: {'subscription_probability': 0.33480703475511053}\n"
     ]
    }
   ],
   "source": [
    "# using test-predict.py script\n",
    "\n",
    "!python test-predict.py"
   ]
  },
  {
   "cell_type": "markdown",
   "metadata": {},
   "source": [
    "Docker\n",
    "Install Docker. We will use it for the next two questions.\n",
    "\n",
    "For these questions, we prepared a base image: svizor/zoomcamp-model:3.11.5-slim. You'll need to use it (see Question 5 for an example).\n",
    "\n",
    "This image is based on python:3.11.5-slim and has a logistic regression model (a different one) as well a dictionary vectorizer inside.\n",
    "\n",
    "This is how the Dockerfile for this image looks like:\n",
    "\n",
    "```\n",
    "FROM python:3.11.5-slim\n",
    "WORKDIR /app\n",
    "COPY [\"model2.bin\", \"dv.bin\", \"./\"]\n",
    "We already built it and then pushed it to svizor/zoomcamp-model:3.11.5-slim.\n",
    "```"
   ]
  },
  {
   "cell_type": "code",
   "execution_count": 55,
   "metadata": {},
   "outputs": [
    {
     "name": "stdout",
     "output_type": "stream",
     "text": [
      "3.11.5-slim: Pulling from svizor/zoomcamp-model\n",
      "\n",
      "\u001b[1Be7c4b030: Pulling fs layer \n",
      "\u001b[1B36e84c8e: Pulling fs layer \n",
      "\u001b[1Bb60fbb0c: Pulling fs layer \n",
      "\u001b[1Be97f4fbd: Pulling fs layer \n",
      "\u001b[1Bd4e17ae3: Waiting fs layer \n",
      "\u001b[1Bf8d7a667: Pulling fs layer \n",
      "\u001b[1BDigest: sha256:15d61790363f892dfdef55f47b78feed751cb59704d47ea911df0ef3e9300c06[6A\u001b[2K\u001b[6A\u001b[2K\n",
      "Status: Downloaded newer image for svizor/zoomcamp-model:3.11.5-slim\n",
      "docker.io/svizor/zoomcamp-model:3.11.5-slim\n"
     ]
    }
   ],
   "source": [
    "!docker pull svizor/zoomcamp-model:3.11.5-slim"
   ]
  },
  {
   "cell_type": "markdown",
   "metadata": {},
   "source": [
    "## Question 5\n",
    "Download the base image svizor/zoomcamp-model:3.11.5-slim. You can easily make it by using docker pull command.\n",
    "\n",
    "So what's the size of this base image?\n",
    "\n",
    "- 45 MB\n",
    "- 130 MB\n",
    "- 245 MB\n",
    "- 330 MB\n",
    "\n",
    "You can get this information when running docker images - it'll be in the \"SIZE\" column."
   ]
  },
  {
   "cell_type": "code",
   "execution_count": 56,
   "metadata": {},
   "outputs": [
    {
     "name": "stdout",
     "output_type": "stream",
     "text": [
      "REPOSITORY              TAG           IMAGE ID       CREATED       SIZE\n",
      "zoomcamp-test           latest        ac3a0367711e   3 hours ago   501MB\n",
      "<none>                  <none>        15147a5c2862   3 hours ago   501MB\n",
      "python                  3.12-slim     fd162521da09   8 days ago    124MB\n",
      "svizor/zoomcamp-model   3.11.5-slim   975e7bdca086   8 days ago    130MB\n"
     ]
    }
   ],
   "source": [
    "!docker images"
   ]
  },
  {
   "cell_type": "markdown",
   "metadata": {},
   "source": [
    "### Dockerfile\n",
    "Now create your own Dockerfile based on the image we prepared.\n",
    "\n",
    "It should start like that:\n",
    "\n",
    "```\n",
    "FROM svizor/zoomcamp-model:3.11.5-slim\n",
    "# add your stuff here\n",
    "```\n",
    "\n",
    "Now complete it:\n",
    "\n",
    "- Install all the dependencies form the Pipenv file\n",
    "- Copy your Flask script\n",
    "- Run it with Gunicorn\n",
    "\n",
    "After that, you can build your docker image."
   ]
  },
  {
   "cell_type": "code",
   "execution_count": null,
   "metadata": {},
   "outputs": [],
   "source": [
    "# building image\n",
    "!docker run -it --rm -p 9696:9696 homework05"
   ]
  },
  {
   "cell_type": "markdown",
   "metadata": {},
   "source": [
    "## Question 6\n",
    "Let's run your docker container!\n",
    "\n",
    "After running it, score this client once again:\n",
    "\n",
    "```\n",
    "url = \"YOUR_URL\"\n",
    "client = {\"job\": \"management\", \"duration\": 400, \"poutcome\": \"success\"}\n",
    "requests.post(url, json=client).json()\n",
    "```\n",
    "\n",
    "What's the probability that this client will get a subscription now?\n",
    "\n",
    "- 0.287\n",
    "- 0.530\n",
    "- 0.757\n",
    "- 0.960"
   ]
  },
  {
   "cell_type": "code",
   "execution_count": 57,
   "metadata": {},
   "outputs": [
    {
     "name": "stdout",
     "output_type": "stream",
     "text": [
      "{\"subscription_probability\":0.7590966516879658}\n"
     ]
    }
   ],
   "source": [
    "!curl -X POST \"http://localhost:9696/predict\" -H \"Content-Type: application/json\" -d '{\"job\": \"management\", \"duration\": 400, \"poutcome\": \"success\"}'"
   ]
  }
 ],
 "metadata": {
  "kernelspec": {
   "display_name": "homework05-1p4mmAS7",
   "language": "python",
   "name": "python3"
  },
  "language_info": {
   "codemirror_mode": {
    "name": "ipython",
    "version": 3
   },
   "file_extension": ".py",
   "mimetype": "text/x-python",
   "name": "python",
   "nbconvert_exporter": "python",
   "pygments_lexer": "ipython3",
   "version": "3.11.10"
  }
 },
 "nbformat": 4,
 "nbformat_minor": 2
}
