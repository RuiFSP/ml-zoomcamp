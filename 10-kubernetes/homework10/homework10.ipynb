{
 "cells": [
  {
   "cell_type": "markdown",
   "metadata": {},
   "source": [
    "# Homework10 - datatalks.club - Rui Pinto"
   ]
  },
  {
   "cell_type": "markdown",
   "metadata": {
    "vscode": {
     "languageId": "plaintext"
    }
   },
   "source": [
    "## Building the image"
   ]
  },
  {
   "cell_type": "code",
   "execution_count": 1,
   "metadata": {},
   "outputs": [
    {
     "name": "stdout",
     "output_type": "stream",
     "text": [
      "3.11.5-hw10: Pulling from svizor/zoomcamp-model\n",
      "\n",
      "\u001b[1Be7c4b030: Already exists \n",
      "\u001b[1B36e84c8e: Already exists \n",
      "\u001b[1Bb60fbb0c: Already exists \n",
      "\u001b[1Be97f4fbd: Already exists \n",
      "\u001b[1Bd4e17ae3: Already exists \n",
      "\u001b[1Bf8d7a667: Already exists \n",
      "\u001b[1Bcd59a5af: Already exists \n",
      "\u001b[1Bfa7bf560: Pulling fs layer \n",
      "\u001b[1B9d6f76f0: Pulling fs layer \n",
      "\u001b[1Bbaa659f2: Pulling fs layer \n",
      "\u001b[1Bc5660603: Pull complete  528B/528B1MBBA\u001b[2K\u001b[2A\u001b[2K\u001b[4A\u001b[2K\u001b[2A\u001b[2K\u001b[2A\u001b[2K\u001b[4A\u001b[2K\u001b[2A\u001b[2K\u001b[4A\u001b[2K\u001b[2A\u001b[2K\u001b[4A\u001b[2K\u001b[1A\u001b[2K\u001b[4A\u001b[2K\u001b[2A\u001b[2K\u001b[4A\u001b[2K\u001b[4A\u001b[2K\u001b[2A\u001b[2K\u001b[2A\u001b[2K\u001b[2A\u001b[2K\u001b[2A\u001b[2K\u001b[4A\u001b[2K\u001b[2A\u001b[2K\u001b[4A\u001b[2K\u001b[2A\u001b[2K\u001b[4A\u001b[2K\u001b[2A\u001b[2K\u001b[4A\u001b[2K\u001b[2A\u001b[2K\u001b[4A\u001b[2K\u001b[2A\u001b[2K\u001b[4A\u001b[2K\u001b[4A\u001b[2K\u001b[2A\u001b[2K\u001b[4A\u001b[2K\u001b[2A\u001b[2K\u001b[4A\u001b[2K\u001b[2A\u001b[2K\u001b[4A\u001b[2K\u001b[2A\u001b[2K\u001b[4A\u001b[2K\u001b[2A\u001b[2K\u001b[2A\u001b[2K\u001b[4A\u001b[2K\u001b[4A\u001b[2K\u001b[4A\u001b[2K\u001b[4A\u001b[2K\u001b[2A\u001b[2K\u001b[4A\u001b[2K\u001b[2A\u001b[2K\u001b[4A\u001b[2K\u001b[2A\u001b[2K\u001b[4A\u001b[2K\u001b[4A\u001b[2K\u001b[4A\u001b[2K\u001b[2A\u001b[2K\u001b[4A\u001b[2K\u001b[2A\u001b[2K\u001b[4A\u001b[2K\u001b[2A\u001b[2K\u001b[4A\u001b[2K\u001b[2A\u001b[2K\u001b[4A\u001b[2K\u001b[2A\u001b[2K\u001b[2A\u001b[2K\u001b[4A\u001b[2K\u001b[2A\u001b[2K\u001b[3A\u001b[2K\u001b[2A\u001b[2K\u001b[2A\u001b[2K\u001b[2A\u001b[2K\u001b[2A\u001b[2K\u001b[2A\u001b[2K\u001b[2A\u001b[2K\u001b[2A\u001b[2K\u001b[2A\u001b[2K\u001b[2A\u001b[2K\u001b[2A\u001b[2K\u001b[2A\u001b[2K\u001b[2A\u001b[2K\u001b[2A\u001b[2K\u001b[2A\u001b[2K\u001b[2A\u001b[2K\u001b[2A\u001b[2K\u001b[2A\u001b[2K\u001b[2A\u001b[2K\u001b[2A\u001b[2K\u001b[2A\u001b[2K\u001b[2A\u001b[2K\u001b[2A\u001b[2K\u001b[2A\u001b[2K\u001b[2A\u001b[2K\u001b[2A\u001b[2K\u001b[2A\u001b[2K\u001b[2A\u001b[2K\u001b[2A\u001b[2K\u001b[2A\u001b[2K\u001b[2A\u001b[2K\u001b[2A\u001b[2K\u001b[2A\u001b[2K\u001b[2A\u001b[2K\u001b[2A\u001b[2K\u001b[2A\u001b[2K\u001b[2A\u001b[2K\u001b[2A\u001b[2K\u001b[2A\u001b[2K\u001b[2A\u001b[2K\u001b[2A\u001b[2K\u001b[2A\u001b[2K\u001b[2A\u001b[2K\u001b[2A\u001b[2K\u001b[2A\u001b[2K\u001b[2A\u001b[2K\u001b[2A\u001b[2K\u001b[2A\u001b[2K\u001b[2A\u001b[2K\u001b[2A\u001b[2K\u001b[2A\u001b[2K\u001b[2A\u001b[2K\u001b[2A\u001b[2K\u001b[2A\u001b[2K\u001b[2A\u001b[2K\u001b[2A\u001b[2K\u001b[2A\u001b[2K\u001b[2A\u001b[2K\u001b[2A\u001b[2K\u001b[2A\u001b[2K\u001b[2A\u001b[2K\u001b[2A\u001b[2K\u001b[2A\u001b[2K\u001b[2A\u001b[2K\u001b[2A\u001b[2K\u001b[2A\u001b[2K\u001b[2A\u001b[2K\u001b[2A\u001b[2K\u001b[2A\u001b[2K\u001b[2A\u001b[2K\u001b[2A\u001b[2K\u001b[1A\u001b[2KDigest: sha256:fc4ca0a74559f57ef8ee4f8e3c3586160ab74427c7c01c8971e4d273db3a2e06\n",
      "Status: Downloaded newer image for svizor/zoomcamp-model:3.11.5-hw10\n",
      "docker.io/svizor/zoomcamp-model:3.11.5-hw10\n"
     ]
    }
   ],
   "source": [
    "!docker pull svizor/zoomcamp-model:3.11.5-hw10"
   ]
  },
  {
   "cell_type": "markdown",
   "metadata": {},
   "source": [
    "## Question 1\n",
    "\n",
    "Run it to test that it's working locally:\n",
    "\n",
    "```bash\n",
    "docker run -it --rm -p 9696:9696 zoomcamp-model:3.11.5-hw10\n",
    "```\n",
    "And in another terminal, execute q6_test.py file:\n",
    "\n",
    "```python\n",
    "python q6_test.py\n",
    "```\n",
    "\n",
    "You should see this:\n",
    "\n",
    "```bash\n",
    "{'has_subscribed': True, 'has_subscribed_probability': <value>}\n",
    "```\n",
    "\n",
    "Here <value> is the probability of getting a subscription. You need to choose the right one.\n",
    "\n",
    "- 0.287\n",
    "- 0.530\n",
    "- 0.757\n",
    "- 0.960"
   ]
  },
  {
   "cell_type": "code",
   "execution_count": 22,
   "metadata": {},
   "outputs": [
    {
     "name": "stdout",
     "output_type": "stream",
     "text": [
      "REPOSITORY              TAG           IMAGE ID       CREATED      SIZE\n",
      "kindest/node            <none>        2d9b4b74084a   5 days ago   1.05GB\n",
      "svizor/zoomcamp-model   3.11.5-hw10   020904a2523c   7 days ago   548MB\n"
     ]
    }
   ],
   "source": [
    "!docker images"
   ]
  },
  {
   "cell_type": "code",
   "execution_count": 24,
   "metadata": {},
   "outputs": [],
   "source": [
    "#run in terminal:  docker run -it --rm -p 9696:9696 svizor/zoomcamp-model:3.11.5-hw10"
   ]
  },
  {
   "cell_type": "code",
   "execution_count": 25,
   "metadata": {},
   "outputs": [
    {
     "name": "stdout",
     "output_type": "stream",
     "text": [
      "{'has_subscribed': True, 'has_subscribed_probability': 0.756743795240796}\n"
     ]
    }
   ],
   "source": [
    "!python q6_test.py"
   ]
  },
  {
   "cell_type": "markdown",
   "metadata": {},
   "source": [
    "## Installing kubectl and kind\n",
    "\n",
    "You need to install:\n",
    "\n",
    "- kubectl - https://kubernetes.io/docs/tasks/tools/ (you might already have it - check before installing)\n",
    "- kind - https://kind.sigs.k8s.io/docs/user/quick-start/"
   ]
  },
  {
   "cell_type": "code",
   "execution_count": 4,
   "metadata": {},
   "outputs": [
    {
     "name": "stdout",
     "output_type": "stream",
     "text": [
      "x86_64\n"
     ]
    }
   ],
   "source": [
    "#checking version to install\n",
    "!uname -m"
   ]
  },
  {
   "cell_type": "markdown",
   "metadata": {},
   "source": [
    "### Installing kubectl"
   ]
  },
  {
   "cell_type": "code",
   "execution_count": 9,
   "metadata": {},
   "outputs": [],
   "source": [
    "#!curl -LO \"https://dl.k8s.io/release/$(curl -L -s https://dl.k8s.io/release/stable.txt)/bin/linux/amd64/kubectl\"\n",
    "#!curl -LO \"https://dl.k8s.io/release/$(curl -L -s https://dl.k8s.io/release/stable.txt)/bin/linux/amd64/kubectl.sha256\"\n",
    "#!echo \"$(cat kubectl.sha256)  kubectl\" | sha256sum --check\n",
    "\n",
    "#in terminal: sudo install -o root -g root -m 0755 kubectl /usr/local/bin/kubectl"
   ]
  },
  {
   "cell_type": "code",
   "execution_count": 11,
   "metadata": {},
   "outputs": [
    {
     "name": "stdout",
     "output_type": "stream",
     "text": [
      "Client Version: v1.32.0\n",
      "Kustomize Version: v5.5.0\n"
     ]
    }
   ],
   "source": [
    "!kubectl version --client"
   ]
  },
  {
   "cell_type": "code",
   "execution_count": 13,
   "metadata": {},
   "outputs": [],
   "source": [
    "### installing kind\n",
    "#in terminal: [ $(uname -m) = x86_64 ] && curl -Lo ./kind https://kind.sigs.k8s.io/dl/v0.26.0/kind-linux-amd64"
   ]
  },
  {
   "cell_type": "code",
   "execution_count": 14,
   "metadata": {},
   "outputs": [
    {
     "name": "stdout",
     "output_type": "stream",
     "text": [
      "zsh:1: command not found: kind\n"
     ]
    }
   ],
   "source": [
    "# For AMD64 / x86_64\n",
    "#[ $(uname -m) = x86_64 ] && curl -Lo ./kind https://kind.sigs.k8s.io/dl/v0.26.0/kind-linux-amd64\n",
    "#chmod +x ./kind\n",
    "#sudo mv ./kind /usr/local/bin/kind"
   ]
  },
  {
   "cell_type": "code",
   "execution_count": 15,
   "metadata": {},
   "outputs": [
    {
     "name": "stdout",
     "output_type": "stream",
     "text": [
      "kind version 0.26.0\n"
     ]
    }
   ],
   "source": [
    "!kind --version"
   ]
  },
  {
   "cell_type": "markdown",
   "metadata": {},
   "source": [
    "### Creating a cluster\n",
    "\n",
    "Now let's create a cluster with kind:\n",
    "\n",
    "```\n",
    "kind create cluster\n",
    "```\n",
    "\n",
    "And check with kubectl that it was successfully created:\n",
    "\n",
    "```\n",
    "kubectl cluster-info\n",
    "```\n"
   ]
  },
  {
   "cell_type": "markdown",
   "metadata": {},
   "source": [
    "## Question 3\n",
    "\n",
    "What's the smallest deployable computing unit that we can create and manage in Kubernetes (kind in our case)?\n",
    "\n",
    "- Node\n",
    "- **Pod**\n",
    "- Deployment\n",
    "- Service\n"
   ]
  },
  {
   "cell_type": "markdown",
   "metadata": {},
   "source": [
    "Explanation of the Options:\n",
    "\n",
    "- Node:\n",
    "  - A Node is a physical or virtual machine that serves as a worker in the Kubernetes cluster. It runs Pods but is not the smallest deployable unit.\n",
    "\n",
    "- Pod:\n",
    "  - A Pod is the smallest deployable unit in Kubernetes. It represents one or more containers that are tightly coupled and share resources like storage and network.\n",
    "  - You manage Pods using higher-level abstractions like Deployments, but the Pod itself is the basic unit of deployment.\n",
    "\n",
    "- Deployment:\n",
    "  - A Deployment is a higher-level abstraction that manages Pods. It ensures the desired number of Pods are running and can handle updates and rollbacks.\n",
    "\n",
    "- Service:\n",
    "  - A Service provides a stable network identity for Pods, enabling communication within or outside the cluster. It is not a deployable unit."
   ]
  },
  {
   "cell_type": "markdown",
   "metadata": {},
   "source": [
    "## Question 4\n",
    "Now let's test if everything works. Use kubectl to get the list of running services.\n",
    "\n",
    "What's the Type of the service that is already running there?\n",
    "\n",
    "- NodePort\n",
    "- **ClusterIP**\n",
    "- ExternalName\n",
    "- LoadBalancer"
   ]
  },
  {
   "cell_type": "code",
   "execution_count": 26,
   "metadata": {},
   "outputs": [
    {
     "name": "stdout",
     "output_type": "stream",
     "text": [
      "NAME         TYPE        CLUSTER-IP   EXTERNAL-IP   PORT(S)   AGE\n",
      "kubernetes   ClusterIP   10.96.0.1    <none>        443/TCP   38m\n"
     ]
    }
   ],
   "source": [
    "!kubectl get service #kubectl get svc"
   ]
  },
  {
   "cell_type": "markdown",
   "metadata": {},
   "source": [
    "## Question 5\n",
    "\n",
    "To be able to use the docker image we previously created (zoomcamp-model:3.11.5-hw10), we need to register it with kind.\n",
    "\n",
    "What's the command we need to run for that?\n",
    "- kind create cluster \n",
    "- kind build node-image\n",
    "- **kind load docker-image**\n",
    "- kubectl apply"
   ]
  },
  {
   "cell_type": "code",
   "execution_count": 27,
   "metadata": {},
   "outputs": [
    {
     "name": "stdout",
     "output_type": "stream",
     "text": [
      "CONTAINER ID   IMAGE                               COMMAND                  CREATED          STATUS          PORTS                                       NAMES\n",
      "73248a8d8096   svizor/zoomcamp-model:3.11.5-hw10   \"waitress-serve --li…\"   13 minutes ago   Up 13 minutes   0.0.0.0:9696->9696/tcp, :::9696->9696/tcp   cranky_cannon\n",
      "5df01bc51490   kindest/node:v1.32.0                \"/usr/local/bin/entr…\"   39 minutes ago   Up 39 minutes   127.0.0.1:45919->6443/tcp                   kind-control-plane\n"
     ]
    }
   ],
   "source": [
    "!docker ps"
   ]
  },
  {
   "cell_type": "code",
   "execution_count": 28,
   "metadata": {},
   "outputs": [
    {
     "name": "stdout",
     "output_type": "stream",
     "text": [
      "Image: \"svizor/zoomcamp-model:3.11.5-hw10\" with ID \"sha256:020904a2523cec81c854a9b4679ae26d23f814e42350721136d1447f910a6b53\" found to be already present on all nodes.\n"
     ]
    }
   ],
   "source": [
    "!kind load docker-image svizor/zoomcamp-model:3.11.5-hw10"
   ]
  },
  {
   "cell_type": "markdown",
   "metadata": {},
   "source": [
    "## Question 6\n",
    "Now let's create a deployment config (e.g. deployment.yaml):\n",
    "\n",
    "```YAML\n",
    "apiVersion: apps/v1\n",
    "kind: Deployment\n",
    "metadata:\n",
    "  name: subscription\n",
    "spec:\n",
    "  selector:\n",
    "    matchLabels:\n",
    "      app: subscription\n",
    "  replicas: 1\n",
    "  template:\n",
    "    metadata:\n",
    "      labels:\n",
    "        app: subscription\n",
    "    spec:\n",
    "      containers:\n",
    "      - name: subscription\n",
    "        image: <Image>\n",
    "        resources:\n",
    "          requests:\n",
    "            memory: \"64Mi\"\n",
    "            cpu: \"100m\"            \n",
    "          limits:\n",
    "            memory: <Memory>\n",
    "            cpu: <CPU>\n",
    "        ports:\n",
    "        - containerPort: <Port>\n",
    "```\n",
    "\n",
    "Replace <Image>, <Memory>, <CPU>, <Port> with the correct values.\n",
    "\n",
    "What is the value for <Port>?\n",
    "\n",
    "Apply this deployment using the appropriate command and get a list of running Pods. You can see one running Pod."
   ]
  },
  {
   "cell_type": "code",
   "execution_count": 30,
   "metadata": {},
   "outputs": [
    {
     "name": "stdout",
     "output_type": "stream",
     "text": [
      "Writing deployment.yaml\n"
     ]
    }
   ],
   "source": [
    "%%writefile deployment.yaml\n",
    "apiVersion: apps/v1\n",
    "kind: Deployment\n",
    "metadata:\n",
    "  name: subscription\n",
    "spec:\n",
    "  selector:\n",
    "    matchLabels:\n",
    "      app: subscription\n",
    "  replicas: 1\n",
    "  template:\n",
    "    metadata:\n",
    "      labels:\n",
    "        app: subscription\n",
    "    spec:\n",
    "      containers:\n",
    "      - name: subscription\n",
    "        image: svizor/zoomcamp-model:3.11.5-hw10\n",
    "        resources:\n",
    "          requests:\n",
    "            memory: \"64Mi\"\n",
    "            cpu: \"100m\"            \n",
    "          limits:\n",
    "            memory: \"128Mi\"   \n",
    "            cpu: \"200m\"       \n",
    "        ports:\n",
    "        - containerPort: 9696  "
   ]
  },
  {
   "cell_type": "code",
   "execution_count": 31,
   "metadata": {},
   "outputs": [
    {
     "data": {
      "text/plain": [
       "['-rw-r--r-- 1 ruifspinto ruifspinto 540 Dec 18 21:56 deployment.yaml']"
      ]
     },
     "execution_count": 31,
     "metadata": {},
     "output_type": "execute_result"
    }
   ],
   "source": [
    "!!ls -lh deployment.yaml"
   ]
  },
  {
   "cell_type": "code",
   "execution_count": 32,
   "metadata": {},
   "outputs": [
    {
     "name": "stdout",
     "output_type": "stream",
     "text": [
      "deployment.apps/subscription created\n"
     ]
    }
   ],
   "source": [
    "!kubectl apply -f deployment.yaml"
   ]
  },
  {
   "cell_type": "code",
   "execution_count": 33,
   "metadata": {},
   "outputs": [
    {
     "name": "stdout",
     "output_type": "stream",
     "text": [
      "NAME                           READY   UP-TO-DATE   AVAILABLE   AGE\n",
      "deployment.apps/subscription   1/1     1            1           12s\n",
      "\n",
      "NAME                                READY   STATUS    RESTARTS   AGE\n",
      "pod/subscription-695fd4dc9b-l9z5q   1/1     Running   0          12s\n"
     ]
    }
   ],
   "source": [
    "!kubectl get deploy,pod"
   ]
  },
  {
   "cell_type": "markdown",
   "metadata": {},
   "source": [
    "## Question 7\n",
    "Let's create a service for this deployment (service.yaml):\n",
    "\n",
    "```YAML\n",
    "apiVersion: v1\n",
    "kind: Service\n",
    "metadata:\n",
    "  name: <Service name>\n",
    "spec:\n",
    "  type: LoadBalancer\n",
    "  selector:\n",
    "    app: <???>\n",
    "  ports:\n",
    "  - port: 80\n",
    "    targetPort: <PORT>\n",
    "```    \n",
    "    \n",
    "Fill it in. What do we need to write instead of <???>?\n",
    "\n",
    "Apply this config file."
   ]
  },
  {
   "cell_type": "code",
   "execution_count": 34,
   "metadata": {},
   "outputs": [
    {
     "name": "stdout",
     "output_type": "stream",
     "text": [
      "Writing service.yaml\n"
     ]
    }
   ],
   "source": [
    "%%writefile service.yaml\n",
    "apiVersion: v1\n",
    "kind: Service\n",
    "metadata:\n",
    "  name: subscription\n",
    "spec:\n",
    "  type: LoadBalancer\n",
    "  selector:\n",
    "    app: subscription\n",
    "  ports:\n",
    "  - port: 80\n",
    "    targetPort: 9696"
   ]
  },
  {
   "cell_type": "code",
   "execution_count": 35,
   "metadata": {},
   "outputs": [
    {
     "name": "stdout",
     "output_type": "stream",
     "text": [
      "-rw-r--r-- 1 ruifspinto ruifspinto 164 Dec 18 21:57 service.yaml\n"
     ]
    }
   ],
   "source": [
    "!ls -lh service.yaml"
   ]
  },
  {
   "cell_type": "code",
   "execution_count": 36,
   "metadata": {},
   "outputs": [
    {
     "name": "stdout",
     "output_type": "stream",
     "text": [
      "service/subscription created\n"
     ]
    }
   ],
   "source": [
    "!kubectl apply -f service.yaml"
   ]
  },
  {
   "cell_type": "code",
   "execution_count": 37,
   "metadata": {},
   "outputs": [
    {
     "name": "stdout",
     "output_type": "stream",
     "text": [
      "NAME           TYPE           CLUSTER-IP      EXTERNAL-IP   PORT(S)        AGE\n",
      "kubernetes     ClusterIP      10.96.0.1       <none>        443/TCP        42m\n",
      "subscription   LoadBalancer   10.96.114.133   <pending>     80:32458/TCP   7s\n"
     ]
    }
   ],
   "source": [
    "!kubectl get svc"
   ]
  },
  {
   "cell_type": "code",
   "execution_count": 38,
   "metadata": {},
   "outputs": [
    {
     "name": "stdout",
     "output_type": "stream",
     "text": [
      "Name:                     subscription\n",
      "Namespace:                default\n",
      "Labels:                   <none>\n",
      "Annotations:              <none>\n",
      "Selector:                 app=subscription\n",
      "Type:                     LoadBalancer\n",
      "IP Family Policy:         SingleStack\n",
      "IP Families:              IPv4\n",
      "IP:                       10.96.114.133\n",
      "IPs:                      10.96.114.133\n",
      "Port:                     <unset>  80/TCP\n",
      "TargetPort:               9696/TCP\n",
      "NodePort:                 <unset>  32458/TCP\n",
      "Endpoints:                10.244.0.5:9696\n",
      "Session Affinity:         None\n",
      "External Traffic Policy:  Cluster\n",
      "Internal Traffic Policy:  Cluster\n",
      "Events:                   <none>\n"
     ]
    }
   ],
   "source": [
    "!kubectl describe svc subscription"
   ]
  },
  {
   "cell_type": "markdown",
   "metadata": {},
   "source": [
    "### Testing the service"
   ]
  },
  {
   "cell_type": "code",
   "execution_count": 40,
   "metadata": {},
   "outputs": [],
   "source": [
    "#kubectl port-forward service/subscription 9696:80"
   ]
  },
  {
   "cell_type": "code",
   "execution_count": 52,
   "metadata": {},
   "outputs": [
    {
     "name": "stdout",
     "output_type": "stream",
     "text": [
      "{'has_subscribed': True, 'has_subscribed_probability': 0.756743795240796}\n"
     ]
    }
   ],
   "source": [
    "!python q6_test.py"
   ]
  },
  {
   "cell_type": "markdown",
   "metadata": {},
   "source": [
    "### Autoscaling\n",
    "Now we're going to use a HorizontalPodAutoscaler (HPA for short) that automatically updates a workload resource (such as our deployment), with the aim of automatically scaling the workload to match demand.\n",
    "\n",
    "Use the following command to create the HPA:\n",
    "\n",
    "```bash\n",
    "kubectl autoscale deployment subscription --name subscription-hpa --cpu-percent=20 --min=1 --max=3\n",
    "```\n",
    "\n",
    "You can check the current status of the new HPA by running:\n",
    "\n",
    "```bash\n",
    "kubectl get hpa\n",
    "```\n",
    "\n",
    "The output should be similar to the next:\n",
    "\n",
    "```bash\n",
    "NAME               REFERENCE                 TARGETS   MINPODS   MAXPODS   REPLICAS   AGE\n",
    "subscription-hpa   Deployment/subscription   1%/20%    1         3         1          27s\n",
    "```\n",
    "\n",
    "TARGET column shows the average CPU consumption across all the Pods controlled by the corresponding deployment. Current CPU consumption is about 0% as there are no clients sending requests to the server.\n",
    "\n",
    "> Note: In case the HPA instance doesn't run properly, try to install the latest Metrics Server release from the components.yaml manifest:\n",
    "> \n",
    "> ```kubectl apply -f https://github.com/kubernetes-sigs/metrics-server/releases/latest/download/components.yaml```"
   ]
  },
  {
   "cell_type": "code",
   "execution_count": 53,
   "metadata": {},
   "outputs": [
    {
     "name": "stdout",
     "output_type": "stream",
     "text": [
      "Error from server (AlreadyExists): horizontalpodautoscalers.autoscaling \"subscription-hpa\" already exists\n"
     ]
    }
   ],
   "source": [
    "!kubectl autoscale deployment subscription --name subscription-hpa --cpu-percent=20 --min=1 --max=3"
   ]
  },
  {
   "cell_type": "code",
   "execution_count": 54,
   "metadata": {},
   "outputs": [
    {
     "name": "stdout",
     "output_type": "stream",
     "text": [
      "NAME               REFERENCE                 TARGETS              MINPODS   MAXPODS   REPLICAS   AGE\n",
      "subscription-hpa   Deployment/subscription   cpu: <unknown>/20%   1         3         1          26m\n"
     ]
    }
   ],
   "source": [
    "!kubectl get hpa"
   ]
  },
  {
   "cell_type": "code",
   "execution_count": 58,
   "metadata": {},
   "outputs": [
    {
     "name": "stdout",
     "output_type": "stream",
     "text": [
      "serviceaccount/metrics-server unchanged\n",
      "clusterrole.rbac.authorization.k8s.io/system:aggregated-metrics-reader unchanged\n",
      "clusterrole.rbac.authorization.k8s.io/system:metrics-server unchanged\n",
      "rolebinding.rbac.authorization.k8s.io/metrics-server-auth-reader unchanged\n",
      "clusterrolebinding.rbac.authorization.k8s.io/metrics-server:system:auth-delegator unchanged\n",
      "clusterrolebinding.rbac.authorization.k8s.io/system:metrics-server unchanged\n",
      "service/metrics-server unchanged\n",
      "deployment.apps/metrics-server configured\n",
      "apiservice.apiregistration.k8s.io/v1beta1.metrics.k8s.io unchanged\n"
     ]
    }
   ],
   "source": [
    "!kubectl apply -f https://github.com/kubernetes-sigs/metrics-server/releases/latest/download/components.yaml"
   ]
  },
  {
   "cell_type": "code",
   "execution_count": 59,
   "metadata": {},
   "outputs": [
    {
     "name": "stdout",
     "output_type": "stream",
     "text": [
      "NAME                                         READY   STATUS    RESTARTS   AGE\n",
      "coredns-668d6bf9bc-q6hqm                     1/1     Running   0          85m\n",
      "coredns-668d6bf9bc-z66vv                     1/1     Running   0          85m\n",
      "etcd-kind-control-plane                      1/1     Running   0          85m\n",
      "kindnet-zzznx                                1/1     Running   0          85m\n",
      "kube-apiserver-kind-control-plane            1/1     Running   0          85m\n",
      "kube-controller-manager-kind-control-plane   1/1     Running   0          85m\n",
      "kube-proxy-2lwk2                             1/1     Running   0          85m\n",
      "kube-scheduler-kind-control-plane            1/1     Running   0          85m\n",
      "metrics-server-6f7dd4c4c4-b5qd8              0/1     Running   0          35m\n"
     ]
    }
   ],
   "source": [
    "!kubectl get pods -n kube-system"
   ]
  },
  {
   "cell_type": "code",
   "execution_count": 56,
   "metadata": {},
   "outputs": [
    {
     "name": "stdout",
     "output_type": "stream",
     "text": [
      "error: Metrics API not available\n"
     ]
    }
   ],
   "source": [
    "!kubectl top nodes"
   ]
  },
  {
   "cell_type": "code",
   "execution_count": 57,
   "metadata": {},
   "outputs": [
    {
     "name": "stdout",
     "output_type": "stream",
     "text": [
      "error: Metrics API not available\n"
     ]
    }
   ],
   "source": [
    "!kubectl top pods"
   ]
  },
  {
   "cell_type": "code",
   "execution_count": 63,
   "metadata": {},
   "outputs": [
    {
     "name": "stdout",
     "output_type": "stream",
     "text": [
      "Name:                                                  subscription-hpa\n",
      "Namespace:                                             default\n",
      "Labels:                                                <none>\n",
      "Annotations:                                           <none>\n",
      "CreationTimestamp:                                     Wed, 18 Dec 2024 22:06:08 +0000\n",
      "Reference:                                             Deployment/subscription\n",
      "Metrics:                                               ( current / target )\n",
      "  resource cpu on pods  (as a percentage of request):  <unknown> / 20%\n",
      "Min replicas:                                          1\n",
      "Max replicas:                                          3\n",
      "Deployment pods:                                       1 current / 0 desired\n",
      "Conditions:\n",
      "  Type           Status  Reason                   Message\n",
      "  ----           ------  ------                   -------\n",
      "  AbleToScale    True    SucceededGetScale        the HPA controller was able to get the target's current scale\n",
      "  ScalingActive  False   FailedGetResourceMetric  the HPA was unable to compute the replica count: failed to get cpu utilization: unable to get metrics for resource cpu: unable to fetch metrics from resource metrics API: the server is currently unable to handle the request (get pods.metrics.k8s.io)\n",
      "Events:\n",
      "  Type     Reason                        Age                  From                       Message\n",
      "  ----     ------                        ----                 ----                       -------\n",
      "  Warning  FailedComputeMetricsReplicas  28m (x12 over 31m)   horizontal-pod-autoscaler  invalid metrics (1 invalid out of 1), first error is: failed to get cpu resource metric value: failed to get cpu utilization: unable to get metrics for resource cpu: unable to fetch metrics from resource metrics API: the server is currently unable to handle the request (get pods.metrics.k8s.io)\n",
      "  Warning  FailedGetResourceMetric       93s (x121 over 31m)  horizontal-pod-autoscaler  failed to get cpu utilization: unable to get metrics for resource cpu: unable to fetch metrics from resource metrics API: the server is currently unable to handle the request (get pods.metrics.k8s.io)\n"
     ]
    }
   ],
   "source": [
    "!kubectl describe hpa subscription-hpa"
   ]
  },
  {
   "cell_type": "markdown",
   "metadata": {},
   "source": [
    "## Increase the load\n",
    "\n",
    "Let's see how the autoscaler reacts to increasing the load. To do this, we can slightly modify the existing q6_test.py script by putting the operator that sends the request to the subscription service into a loop.\n",
    "\n",
    "```python\n",
    "while True:\n",
    "    sleep(0.1)\n",
    "    response = requests.post(url, json=client).json()\n",
    "    print(response)\n",
    "```\n",
    "\n",
    "Now you can run this script.\n"
   ]
  },
  {
   "cell_type": "code",
   "execution_count": 46,
   "metadata": {},
   "outputs": [
    {
     "name": "stdout",
     "output_type": "stream",
     "text": [
      "Writing q6_test_mod.py\n"
     ]
    }
   ],
   "source": [
    "%%writefile q6_test_mod.py\n",
    "import requests\n",
    "from time import sleep\n",
    "url = \"http://localhost:9696/predict\"\n",
    "client = {\"job\": \"management\", \"duration\": 400, \"poutcome\": \"success\"}\n",
    "while True:\n",
    "    sleep(0.1)\n",
    "    response = requests.post(url, json=client).json()\n",
    "    print(response)"
   ]
  },
  {
   "cell_type": "code",
   "execution_count": 47,
   "metadata": {},
   "outputs": [
    {
     "name": "stdout",
     "output_type": "stream",
     "text": [
      "{'has_subscribed': True, 'has_subscribed_probability': 0.756743795240796}\n",
      "{'has_subscribed': True, 'has_subscribed_probability': 0.756743795240796}\n",
      "{'has_subscribed': True, 'has_subscribed_probability': 0.756743795240796}\n",
      "{'has_subscribed': True, 'has_subscribed_probability': 0.756743795240796}\n",
      "{'has_subscribed': True, 'has_subscribed_probability': 0.756743795240796}\n",
      "{'has_subscribed': True, 'has_subscribed_probability': 0.756743795240796}\n",
      "{'has_subscribed': True, 'has_subscribed_probability': 0.756743795240796}\n",
      "{'has_subscribed': True, 'has_subscribed_probability': 0.756743795240796}\n",
      "{'has_subscribed': True, 'has_subscribed_probability': 0.756743795240796}\n",
      "{'has_subscribed': True, 'has_subscribed_probability': 0.756743795240796}\n",
      "{'has_subscribed': True, 'has_subscribed_probability': 0.756743795240796}\n",
      "{'has_subscribed': True, 'has_subscribed_probability': 0.756743795240796}\n",
      "{'has_subscribed': True, 'has_subscribed_probability': 0.756743795240796}\n",
      "{'has_subscribed': True, 'has_subscribed_probability': 0.756743795240796}\n",
      "{'has_subscribed': True, 'has_subscribed_probability': 0.756743795240796}\n",
      "{'has_subscribed': True, 'has_subscribed_probability': 0.756743795240796}\n",
      "{'has_subscribed': True, 'has_subscribed_probability': 0.756743795240796}\n",
      "{'has_subscribed': True, 'has_subscribed_probability': 0.756743795240796}\n",
      "{'has_subscribed': True, 'has_subscribed_probability': 0.756743795240796}\n",
      "{'has_subscribed': True, 'has_subscribed_probability': 0.756743795240796}\n",
      "{'has_subscribed': True, 'has_subscribed_probability': 0.756743795240796}\n",
      "{'has_subscribed': True, 'has_subscribed_probability': 0.756743795240796}\n",
      "{'has_subscribed': True, 'has_subscribed_probability': 0.756743795240796}\n",
      "{'has_subscribed': True, 'has_subscribed_probability': 0.756743795240796}\n",
      "{'has_subscribed': True, 'has_subscribed_probability': 0.756743795240796}\n",
      "{'has_subscribed': True, 'has_subscribed_probability': 0.756743795240796}\n",
      "{'has_subscribed': True, 'has_subscribed_probability': 0.756743795240796}\n",
      "{'has_subscribed': True, 'has_subscribed_probability': 0.756743795240796}\n",
      "{'has_subscribed': True, 'has_subscribed_probability': 0.756743795240796}\n",
      "{'has_subscribed': True, 'has_subscribed_probability': 0.756743795240796}\n",
      "{'has_subscribed': True, 'has_subscribed_probability': 0.756743795240796}\n",
      "{'has_subscribed': True, 'has_subscribed_probability': 0.756743795240796}\n",
      "{'has_subscribed': True, 'has_subscribed_probability': 0.756743795240796}\n",
      "{'has_subscribed': True, 'has_subscribed_probability': 0.756743795240796}\n",
      "{'has_subscribed': True, 'has_subscribed_probability': 0.756743795240796}\n",
      "{'has_subscribed': True, 'has_subscribed_probability': 0.756743795240796}\n",
      "{'has_subscribed': True, 'has_subscribed_probability': 0.756743795240796}\n",
      "{'has_subscribed': True, 'has_subscribed_probability': 0.756743795240796}\n",
      "{'has_subscribed': True, 'has_subscribed_probability': 0.756743795240796}\n",
      "{'has_subscribed': True, 'has_subscribed_probability': 0.756743795240796}\n",
      "{'has_subscribed': True, 'has_subscribed_probability': 0.756743795240796}\n",
      "{'has_subscribed': True, 'has_subscribed_probability': 0.756743795240796}\n",
      "{'has_subscribed': True, 'has_subscribed_probability': 0.756743795240796}\n",
      "{'has_subscribed': True, 'has_subscribed_probability': 0.756743795240796}\n",
      "{'has_subscribed': True, 'has_subscribed_probability': 0.756743795240796}\n",
      "{'has_subscribed': True, 'has_subscribed_probability': 0.756743795240796}\n",
      "{'has_subscribed': True, 'has_subscribed_probability': 0.756743795240796}\n",
      "{'has_subscribed': True, 'has_subscribed_probability': 0.756743795240796}\n",
      "{'has_subscribed': True, 'has_subscribed_probability': 0.756743795240796}\n",
      "{'has_subscribed': True, 'has_subscribed_probability': 0.756743795240796}\n",
      "{'has_subscribed': True, 'has_subscribed_probability': 0.756743795240796}\n",
      "{'has_subscribed': True, 'has_subscribed_probability': 0.756743795240796}\n",
      "{'has_subscribed': True, 'has_subscribed_probability': 0.756743795240796}\n",
      "{'has_subscribed': True, 'has_subscribed_probability': 0.756743795240796}\n",
      "{'has_subscribed': True, 'has_subscribed_probability': 0.756743795240796}\n",
      "{'has_subscribed': True, 'has_subscribed_probability': 0.756743795240796}\n",
      "{'has_subscribed': True, 'has_subscribed_probability': 0.756743795240796}\n",
      "{'has_subscribed': True, 'has_subscribed_probability': 0.756743795240796}\n",
      "{'has_subscribed': True, 'has_subscribed_probability': 0.756743795240796}\n",
      "{'has_subscribed': True, 'has_subscribed_probability': 0.756743795240796}\n",
      "{'has_subscribed': True, 'has_subscribed_probability': 0.756743795240796}\n",
      "{'has_subscribed': True, 'has_subscribed_probability': 0.756743795240796}\n",
      "{'has_subscribed': True, 'has_subscribed_probability': 0.756743795240796}\n",
      "{'has_subscribed': True, 'has_subscribed_probability': 0.756743795240796}\n",
      "{'has_subscribed': True, 'has_subscribed_probability': 0.756743795240796}\n",
      "{'has_subscribed': True, 'has_subscribed_probability': 0.756743795240796}\n",
      "{'has_subscribed': True, 'has_subscribed_probability': 0.756743795240796}\n",
      "{'has_subscribed': True, 'has_subscribed_probability': 0.756743795240796}\n",
      "{'has_subscribed': True, 'has_subscribed_probability': 0.756743795240796}\n",
      "{'has_subscribed': True, 'has_subscribed_probability': 0.756743795240796}\n",
      "{'has_subscribed': True, 'has_subscribed_probability': 0.756743795240796}\n",
      "{'has_subscribed': True, 'has_subscribed_probability': 0.756743795240796}\n",
      "{'has_subscribed': True, 'has_subscribed_probability': 0.756743795240796}\n",
      "{'has_subscribed': True, 'has_subscribed_probability': 0.756743795240796}\n",
      "{'has_subscribed': True, 'has_subscribed_probability': 0.756743795240796}\n",
      "{'has_subscribed': True, 'has_subscribed_probability': 0.756743795240796}\n",
      "{'has_subscribed': True, 'has_subscribed_probability': 0.756743795240796}\n",
      "{'has_subscribed': True, 'has_subscribed_probability': 0.756743795240796}\n",
      "{'has_subscribed': True, 'has_subscribed_probability': 0.756743795240796}\n",
      "{'has_subscribed': True, 'has_subscribed_probability': 0.756743795240796}\n",
      "{'has_subscribed': True, 'has_subscribed_probability': 0.756743795240796}\n",
      "{'has_subscribed': True, 'has_subscribed_probability': 0.756743795240796}\n",
      "{'has_subscribed': True, 'has_subscribed_probability': 0.756743795240796}\n",
      "{'has_subscribed': True, 'has_subscribed_probability': 0.756743795240796}\n",
      "{'has_subscribed': True, 'has_subscribed_probability': 0.756743795240796}\n",
      "{'has_subscribed': True, 'has_subscribed_probability': 0.756743795240796}\n",
      "{'has_subscribed': True, 'has_subscribed_probability': 0.756743795240796}\n",
      "{'has_subscribed': True, 'has_subscribed_probability': 0.756743795240796}\n",
      "{'has_subscribed': True, 'has_subscribed_probability': 0.756743795240796}\n",
      "{'has_subscribed': True, 'has_subscribed_probability': 0.756743795240796}\n",
      "{'has_subscribed': True, 'has_subscribed_probability': 0.756743795240796}\n",
      "{'has_subscribed': True, 'has_subscribed_probability': 0.756743795240796}\n",
      "{'has_subscribed': True, 'has_subscribed_probability': 0.756743795240796}\n",
      "{'has_subscribed': True, 'has_subscribed_probability': 0.756743795240796}\n",
      "{'has_subscribed': True, 'has_subscribed_probability': 0.756743795240796}\n",
      "{'has_subscribed': True, 'has_subscribed_probability': 0.756743795240796}\n",
      "{'has_subscribed': True, 'has_subscribed_probability': 0.756743795240796}\n",
      "{'has_subscribed': True, 'has_subscribed_probability': 0.756743795240796}\n",
      "^C\n",
      "Traceback (most recent call last):\n",
      "  File \"/home/ruifspinto/ml-zoomcamp/10-kubernetes/homework10/q6_test_mod.py\", line 6, in <module>\n",
      "    sleep(0.1)\n",
      "KeyboardInterrupt\n"
     ]
    }
   ],
   "source": [
    "!python q6_test_mod.py"
   ]
  },
  {
   "cell_type": "markdown",
   "metadata": {},
   "source": [
    "## Question 8 (optional)\n",
    "\n",
    "Run kubectl get hpa subscription-hpa --watch command to monitor how the autoscaler performs. Within a minute or so, you should see the higher CPU load; and then - more replicas. What was the maximum amount of the replicas during this test?\n",
    "\n",
    "- 1\n",
    "- 2\n",
    "- **3**\n",
    "- 4\n",
    "\n",
    "> Note: It may take a few minutes to stabilize the number of replicas. Since the amount of load is not controlled in any way it may happen that the final number of replicas will differ from initial."
   ]
  },
  {
   "cell_type": "code",
   "execution_count": 65,
   "metadata": {},
   "outputs": [],
   "source": [
    "#!kubectl get hpa subscription-hpa --watch"
   ]
  }
 ],
 "metadata": {
  "kernelspec": {
   "display_name": "ml_zoomcap",
   "language": "python",
   "name": "python3"
  },
  "language_info": {
   "codemirror_mode": {
    "name": "ipython",
    "version": 3
   },
   "file_extension": ".py",
   "mimetype": "text/x-python",
   "name": "python",
   "nbconvert_exporter": "python",
   "pygments_lexer": "ipython3",
   "version": "3.12.0"
  }
 },
 "nbformat": 4,
 "nbformat_minor": 2
}
